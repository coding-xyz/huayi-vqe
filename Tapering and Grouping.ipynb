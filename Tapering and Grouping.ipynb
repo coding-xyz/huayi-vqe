{
 "cells": [
  {
   "cell_type": "markdown",
   "metadata": {},
   "source": [
    "# Tapering Hamiltonian and Grouping Observables\n",
    "\n",
    "Qiskit procides built-in tapering algorithm based on $\\mathbb{Z}_2$ symmetry."
   ]
  },
  {
   "cell_type": "code",
   "execution_count": 1,
   "metadata": {},
   "outputs": [
    {
     "name": "stdout",
     "output_type": "stream",
     "text": [
      "12 qubits in the Hamiltonian.\n"
     ]
    }
   ],
   "source": [
    "# Get a qubit Hamiltonian\n",
    "\n",
    "from chemistry_problems import chemical_model, Z2_tapering, grouping_observables\n",
    "\n",
    "qubit_ham = chemical_model()"
   ]
  },
  {
   "cell_type": "code",
   "execution_count": 2,
   "metadata": {},
   "outputs": [
    {
     "name": "stdout",
     "output_type": "stream",
     "text": [
      "8 qubits remained after Z2 tapering\n"
     ]
    }
   ],
   "source": [
    "# Z2-symmetry tapering with Qiskit\n",
    "\n",
    "tapered_ham = Z2_tapering(qubit_ham)\n",
    "print(tapered_ham.num_qubits, \"qubits remained after Z2 tapering\")"
   ]
  },
  {
   "cell_type": "markdown",
   "metadata": {},
   "source": [
    "The method ``grouping_observables`` can group the Hamiltonian, as well as makeup the unused qubits with ``I`` to fit the hardware circuit.\n",
    "\n",
    "``grouping_observables(circuit:QuantumCircuit, hamiltonian:SparsePauliOp, grouping_alg:function)``"
   ]
  },
  {
   "cell_type": "code",
   "execution_count": 3,
   "metadata": {},
   "outputs": [
    {
     "name": "stdout",
     "output_type": "stream",
     "text": [
      "35 groups are found\n",
      "id   size   max[abs(coeffs)]         \n",
      " 0    56   50.6738276194932         \n",
      " 1    32   0.2192419211798533       \n",
      " 2    30   0.18236945949150266      \n",
      " 3    28   0.08213155883748921      \n",
      " 4    32   0.21924192117985355      \n",
      " 5    18   0.030742343291995145     \n",
      " 6    16   0.015171506014151313     \n",
      " 7    16   0.01717403062644146      \n",
      " 8    30   0.18236945949150266      \n",
      " 9    16   0.015171506014151312     \n",
      "10    16   0.020493277929006425     \n",
      "11    16   0.005411302830059288     \n",
      "12    28   0.08213155883748921      \n",
      "13    16   0.01717403062644146      \n",
      "14    16   0.005411302830059287     \n",
      "15    16   0.03461532754394602      \n",
      "16    16   0.017348500493460598     \n",
      "17    16   0.05385802408376159      \n",
      "18    16   0.06485953218703588      \n",
      "19     8   0.03923565564004072      \n",
      "20     8   0.00845204395988406      \n",
      "21     8   0.010412704023033514     \n",
      "22     8   0.01007587907105712      \n",
      "23     8   0.039235655640040695     \n",
      "24     8   0.00845204395988406      \n",
      "25     8   0.010412704023033507     \n",
      "26     8   0.010075879071057114     \n",
      "27     8   0.010412704023033518     \n",
      "28     8   0.010075879071057116     \n",
      "29     8   0.012889297459808314     \n",
      "30     8   0.0018964907081481513    \n",
      "31     8   0.010412704023033507     \n",
      "32     8   0.01007587907105712      \n",
      "33     8   0.01288929745980833      \n",
      "34     8   0.0018964907081481513    \n"
     ]
    }
   ],
   "source": [
    "# Grouping with Qiskit built-in\n",
    "\n",
    "from qiskit_aer.backends.aer_simulator import AerSimulator\n",
    "from qiskit.circuit.library import NLocal, TwoLocal\n",
    "from qiskit import transpile\n",
    "from huayi_providers.fake_huayi30 import FakeHuayi30\n",
    "\n",
    "circ_scc = transpile(TwoLocal(16,\n",
    "                    rotation_blocks=[\"rz\"],\n",
    "                    entanglement_blocks=\"cx\",\n",
    "                    entanglement=\"reverse_linear\",\n",
    "                    reps=2,\n",
    "                    insert_barriers=True,\n",
    "                    initial_state=None,\n",
    "                    name='SuperConduct',\n",
    "                    flatten=True,\n",
    "                   ), FakeHuayi30(), optimization_level=3)\n",
    "\n",
    "grouped_obs = grouping_observables(circ_scc, tapered_ham)\n",
    "\n",
    "print(len(grouped_obs), \"groups are found\")\n",
    "print(\"{:>2}   {:>4}   {:<25}\".format(\"id\", \"size\", \"max[abs(coeffs)]\"))\n",
    "for i,g in enumerate(grouped_obs):\n",
    "    print(\"{:>2}  {:>4}   {:<25}\".format(i,g.size,abs(max(g.coeffs, key=abs))))"
   ]
  }
 ],
 "metadata": {
  "kernelspec": {
   "display_name": "base",
   "language": "python",
   "name": "python3"
  },
  "language_info": {
   "codemirror_mode": {
    "name": "ipython",
    "version": 3
   },
   "file_extension": ".py",
   "mimetype": "text/x-python",
   "name": "python",
   "nbconvert_exporter": "python",
   "pygments_lexer": "ipython3",
   "version": "3.11.3"
  }
 },
 "nbformat": 4,
 "nbformat_minor": 2
}
