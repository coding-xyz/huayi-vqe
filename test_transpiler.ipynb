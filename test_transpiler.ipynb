{
 "cells": [
  {
   "cell_type": "markdown",
   "metadata": {},
   "source": [
    "# Test the ability of qiskit.transpiler\n",
    "\n",
    "To trasnpile an ideal circuit ``c0`` with different noise models.\n",
    "\n",
    "- ``c1``: only contains the nearest-neighbour (N.N.) couplings\n",
    "- ``c2``: also contains the next-nearest-neighbour (N.N.N.) couplings\n",
    "\n",
    "The N.N.N. gate error rates are larger than the N.N. error rates by a ``scale factor``.\n",
    "\n",
    "``c1`` is deeper but has lower noise\n",
    "\n",
    "``c2`` is shallower but has higher noise\n",
    "\n",
    "\n",
    "Compare their output with the ideal circuit ``c0``: As for noisy circuits, if the output is in ``c0`` ideal outputs, then ``count+=1``.\n",
    "\n",
    "\n",
    "Now, sweep the ``scale factor`` (N.N.N. noise), the performance of ``c2`` should decay compared to ``c1``.\n",
    "\n",
    "According to simulation, the cross section is roughly ``scale = 2.5``.\n",
    "\n",
    "**However, it seems that the transpiler fails to optimize the noisy circuit by deepening the circuit to avoid using noisy gates!**"
   ]
  },
  {
   "cell_type": "code",
   "execution_count": 1,
   "metadata": {},
   "outputs": [
    {
     "data": {
      "text/plain": [
       "{'1001': 0.25, '1011': 0.25, '1101': 0.25, '1111': 0.25}"
      ]
     },
     "metadata": {},
     "output_type": "display_data"
    },
    {
     "data": {
      "text/html": [
       "<pre style=\"word-wrap: normal;white-space: pre;background: #fff0;line-height: 1.1;font-family: &quot;Courier New&quot;,Courier,monospace\">                   ┌───┐                      ░ ┌─┐         \n",
       "   q_0: ─────────■─┤ X ├───────────────────■──░─┤M├─────────\n",
       "           ┌───┐ │ ├───┴┐                  │  ░ └╥┘┌─┐      \n",
       "   q_1: ─■─┤ X ├─■─┤ √X ├─■────────────────┼──░──╫─┤M├──────\n",
       "         │ └───┘   └────┘ │ ┌────┐         │  ░  ║ └╥┘┌─┐   \n",
       "   q_2: ─■────────────────■─┤ √X ├─■───────┼──░──╫──╫─┤M├───\n",
       "                            └────┘ │ ┌───┐ │  ░  ║  ║ └╥┘┌─┐\n",
       "   q_3: ───────────────────────────■─┤ X ├─■──░──╫──╫──╫─┤M├\n",
       "                                     └───┘    ░  ║  ║  ║ └╥┘\n",
       "meas: 4/═════════════════════════════════════════╩══╩══╩══╩═\n",
       "                                                 0  1  2  3 </pre>"
      ],
      "text/plain": [
       "                   ┌───┐                      ░ ┌─┐         \n",
       "   q_0: ─────────■─┤ X ├───────────────────■──░─┤M├─────────\n",
       "           ┌───┐ │ ├───┴┐                  │  ░ └╥┘┌─┐      \n",
       "   q_1: ─■─┤ X ├─■─┤ √X ├─■────────────────┼──░──╫─┤M├──────\n",
       "         │ └───┘   └────┘ │ ┌────┐         │  ░  ║ └╥┘┌─┐   \n",
       "   q_2: ─■────────────────■─┤ √X ├─■───────┼──░──╫──╫─┤M├───\n",
       "                            └────┘ │ ┌───┐ │  ░  ║  ║ └╥┘┌─┐\n",
       "   q_3: ───────────────────────────■─┤ X ├─■──░──╫──╫──╫─┤M├\n",
       "                                     └───┘    ░  ║  ║  ║ └╥┘\n",
       "meas: 4/═════════════════════════════════════════╩══╩══╩══╩═\n",
       "                                                 0  1  2  3 "
      ]
     },
     "metadata": {},
     "output_type": "display_data"
    },
    {
     "data": {
      "text/html": [
       "<pre style=\"word-wrap: normal;white-space: pre;background: #fff0;line-height: 1.1;font-family: &quot;Courier New&quot;,Courier,monospace\">global phase: 0\n",
       "                                  ┌───┐                                          ┌─────────┐  ┌────┐ ┌───────┐          ┌────┐    ┌─────────┐                        ░    ┌─┐      \n",
       "q_0 -> 0 ───────────────────────■─┤ X ├────────────────────────────────────────■─┤ Rz(π/2) ├──┤ √X ├─┤ Rz(π) ├──■───────┤ √X ├────┤ Rz(π/2) ├─■──────────────────────░────┤M├──────\n",
       "                         ┌───┐  │ ├───┴┐   ┌─────────┐     ┌────┐    ┌───────┐ │ └──┬────┬─┘┌─┴────┴┐└───────┘  │       ├────┤    └┬───────┬┘ │ ┌────┐┌─────────┐    ░ ┌─┐└╥┘      \n",
       "q_1 -> 1 ───────■────────┤ X ├──■─┤ √X ├─■─┤ Rz(π/2) ├─────┤ √X ├────┤ Rz(π) ├─■────┤ √X ├──┤ Rz(π) ├───────────■───────┤ √X ├─────┤ Rz(π) ├──■─┤ √X ├┤ Rz(π/2) ├─■──░─┤M├─╫───────\n",
       "                │        └───┘    └────┘ │ └──┬────┬─┘┌────┴────┴───┐└─┬────┬┘      ├────┤  ├───────┤         ┌────┐┌───┴────┴───┐ └───────┘    └────┘└─────────┘ │  ░ └╥┘ ║    ┌─┐\n",
       "q_2 -> 2 ───────■────────────────────────■────┤ √X ├──┤ Rz(-2.9927) ├──┤ √X ├──■────┤ √X ├──┤ Rz(π) ├────■────┤ √X ├┤ Rz(2.8953) ├────────────────────────────────■──░──╫──╫────┤M├\n",
       "         ┌──────────────┐┌────┐               └────┘  └─────────────┘  └────┘  │    ├────┤  └───────┘    │    ├────┤├────────────┤                                   ░  ║  ║ ┌─┐└╥┘\n",
       "q_3 -> 3 ┤ Rz(-0.24628) ├┤ √X ├────────────────────────────────────────────────■────┤ √X ├───────────────■────┤ √X ├┤ Rz(2.9927) ├───────────────────────────────────░──╫──╫─┤M├─╫─\n",
       "         └──────────────┘└────┘                                                     └────┘                    └────┘└────────────┘                                   ░  ║  ║ └╥┘ ║ \n",
       " meas: 4/═══════════════════════════════════════════════════════════════════════════════════════════════════════════════════════════════════════════════════════════════╩══╩══╩══╩═\n",
       "                                                                                                                                                                        0  1  2  3 </pre>"
      ],
      "text/plain": [
       "global phase: 0\n",
       "                                  ┌───┐                                          ┌─────────┐  ┌────┐ ┌───────┐          ┌────┐    ┌─────────┐                        ░    ┌─┐      \n",
       "q_0 -> 0 ───────────────────────■─┤ X ├────────────────────────────────────────■─┤ Rz(π/2) ├──┤ √X ├─┤ Rz(π) ├──■───────┤ √X ├────┤ Rz(π/2) ├─■──────────────────────░────┤M├──────\n",
       "                         ┌───┐  │ ├───┴┐   ┌─────────┐     ┌────┐    ┌───────┐ │ └──┬────┬─┘┌─┴────┴┐└───────┘  │       ├────┤    └┬───────┬┘ │ ┌────┐┌─────────┐    ░ ┌─┐└╥┘      \n",
       "q_1 -> 1 ───────■────────┤ X ├──■─┤ √X ├─■─┤ Rz(π/2) ├─────┤ √X ├────┤ Rz(π) ├─■────┤ √X ├──┤ Rz(π) ├───────────■───────┤ √X ├─────┤ Rz(π) ├──■─┤ √X ├┤ Rz(π/2) ├─■──░─┤M├─╫───────\n",
       "                │        └───┘    └────┘ │ └──┬────┬─┘┌────┴────┴───┐└─┬────┬┘      ├────┤  ├───────┤         ┌────┐┌───┴────┴───┐ └───────┘    └────┘└─────────┘ │  ░ └╥┘ ║    ┌─┐\n",
       "q_2 -> 2 ───────■────────────────────────■────┤ √X ├──┤ Rz(-2.9927) ├──┤ √X ├──■────┤ √X ├──┤ Rz(π) ├────■────┤ √X ├┤ Rz(2.8953) ├────────────────────────────────■──░──╫──╫────┤M├\n",
       "         ┌──────────────┐┌────┐               └────┘  └─────────────┘  └────┘  │    ├────┤  └───────┘    │    ├────┤├────────────┤                                   ░  ║  ║ ┌─┐└╥┘\n",
       "q_3 -> 3 ┤ Rz(-0.24628) ├┤ √X ├────────────────────────────────────────────────■────┤ √X ├───────────────■────┤ √X ├┤ Rz(2.9927) ├───────────────────────────────────░──╫──╫─┤M├─╫─\n",
       "         └──────────────┘└────┘                                                     └────┘                    └────┘└────────────┘                                   ░  ║  ║ └╥┘ ║ \n",
       " meas: 4/═══════════════════════════════════════════════════════════════════════════════════════════════════════════════════════════════════════════════════════════════╩══╩══╩══╩═\n",
       "                                                                                                                                                                        0  1  2  3 "
      ]
     },
     "metadata": {},
     "output_type": "display_data"
    },
    {
     "data": {
      "text/html": [
       "<pre style=\"word-wrap: normal;white-space: pre;background: #fff0;line-height: 1.1;font-family: &quot;Courier New&quot;,Courier,monospace\">                    ┌───┐                      ░ ┌─┐         \n",
       "q_0 -> 0 ─────────■─┤ X ├───────────────────■──░─┤M├─────────\n",
       "            ┌───┐ │ ├───┴┐                  │  ░ └╥┘┌─┐      \n",
       "q_1 -> 1 ─■─┤ X ├─■─┤ √X ├─■────────────────┼──░──╫─┤M├──────\n",
       "          │ └───┘   └────┘ │          ┌───┐ │  ░  ║ └╥┘   ┌─┐\n",
       "q_3 -> 2 ─┼────────────────┼────────■─┤ X ├─■──░──╫──╫────┤M├\n",
       "          │                │ ┌────┐ │ └───┘    ░  ║  ║ ┌─┐└╥┘\n",
       "q_2 -> 3 ─■────────────────■─┤ √X ├─■──────────░──╫──╫─┤M├─╫─\n",
       "                             └────┘            ░  ║  ║ └╥┘ ║ \n",
       " meas: 4/═════════════════════════════════════════╩══╩══╩══╩═\n",
       "                                                  0  1  2  3 </pre>"
      ],
      "text/plain": [
       "                    ┌───┐                      ░ ┌─┐         \n",
       "q_0 -> 0 ─────────■─┤ X ├───────────────────■──░─┤M├─────────\n",
       "            ┌───┐ │ ├───┴┐                  │  ░ └╥┘┌─┐      \n",
       "q_1 -> 1 ─■─┤ X ├─■─┤ √X ├─■────────────────┼──░──╫─┤M├──────\n",
       "          │ └───┘   └────┘ │          ┌───┐ │  ░  ║ └╥┘   ┌─┐\n",
       "q_3 -> 2 ─┼────────────────┼────────■─┤ X ├─■──░──╫──╫────┤M├\n",
       "          │                │ ┌────┐ │ └───┘    ░  ║  ║ ┌─┐└╥┘\n",
       "q_2 -> 3 ─■────────────────■─┤ √X ├─■──────────░──╫──╫─┤M├─╫─\n",
       "                             └────┘            ░  ║  ║ └╥┘ ║ \n",
       " meas: 4/═════════════════════════════════════════╩══╩══╩══╩═\n",
       "                                                  0  1  2  3 "
      ]
     },
     "metadata": {},
     "output_type": "display_data"
    }
   ],
   "source": [
    "from qiskit import QuantumRegister, QuantumCircuit\n",
    "from qiskit import execute, transpile\n",
    "from qiskit.quantum_info import Statevector\n",
    "from qiskit import Aer\n",
    "import numpy as np\n",
    "import matplotlib.pyplot as plt\n",
    "\n",
    "q = QuantumRegister(4,'q')\n",
    "\n",
    "c0 = QuantumCircuit(q)\n",
    "c0.cz(q[1],q[2])\n",
    "c0.x(q[1])\n",
    "c0.cz(q[0],q[1])\n",
    "c0.sx(q[1])\n",
    "c0.cz(q[1],q[2])\n",
    "c0.sx(q[2])\n",
    "c0.cz(q[2],q[3])\n",
    "c0.x(q[3])\n",
    "c0.x(q[0])\n",
    "c0.cz(q[3],q[0])\n",
    "\n",
    "c0.measure_all()\n",
    "\n",
    "state_vector = Statevector.from_instruction(\n",
    "    c0.remove_final_measurements(inplace=False) )\n",
    "ideal_prob = state_vector.probabilities_dict()\n",
    "\n",
    "display(ideal_prob)\n",
    "\n",
    "\n",
    "basis_gates = ['x','sx','rz','cz']\n",
    "cmap1 = [[0,1],[1,0],[1,2],[2,1],[2,3],[3,2]] # N.N. coupling map\n",
    "cmap2 = [[0,1],[0,2],[1,0],[1,2],[1,3],[2,0],[2,1],[2,3],[3,1],[3,2]] # N.N.N. coupling map\n",
    "\n",
    "c1 = transpile(c0, coupling_map=cmap1,basis_gates=basis_gates, optimization_level=3)\n",
    "c2 = transpile(c0, coupling_map=cmap2,basis_gates=basis_gates, optimization_level=3)\n",
    "\n",
    "display(c0.draw())\n",
    "display(c1.draw(fold=-1))\n",
    "display(c2.draw(fold=-1))"
   ]
  },
  {
   "cell_type": "code",
   "execution_count": 2,
   "metadata": {},
   "outputs": [
    {
     "name": "stdout",
     "output_type": "stream",
     "text": [
      "Ideal outputs: {'1001': 0.25, '1011': 0.25, '1101': 0.25, '1111': 0.25}\n"
     ]
    },
    {
     "data": {
      "image/png": "[encoded data removed]",
      "text/plain": [
       "<Figure size 640x480 with 1 Axes>"
      ]
     },
     "metadata": {},
     "output_type": "display_data"
    }
   ],
   "source": [
    "from qiskit_aer import AerSimulator, noise\n",
    "import numpy as np\n",
    "import matplotlib.pyplot as plt\n",
    "\n",
    "def get_backend_1(error1, error2):\n",
    "    # Depolarizing quantum errors\n",
    "    error_1 = noise.depolarizing_error(error1, 1)\n",
    "    error_2 = noise.depolarizing_error(error2, 2)\n",
    "\n",
    "    # Add errors to noise model\n",
    "    noise_model1 = noise.NoiseModel()\n",
    "    noise_model1.add_all_qubit_quantum_error(error_1, ['rz', 'sx', 'x'])\n",
    "    noise_model1.add_all_qubit_quantum_error(error_2, ['cz'])\n",
    "\n",
    "    backend = AerSimulator(basis_gates=basis_gates, n_qubits=4,\n",
    "                           noise_model=noise_model1, coupling_map=cmap1)\n",
    "    \n",
    "    return backend\n",
    "\n",
    "def get_backend_2(error1, error2, error3):\n",
    "    # Depolarizing quantum errors\n",
    "    error_1 = noise.depolarizing_error(error1, 1)\n",
    "    error_2 = noise.depolarizing_error(error2, 2)\n",
    "    error_3 = noise.depolarizing_error(error3, 2)\n",
    "\n",
    "    noise_model2 = noise.NoiseModel()\n",
    "    noise_model2.add_all_qubit_quantum_error(error_1, ['rz', 'sx', 'x'])\n",
    "    for qubits in cmap2:\n",
    "        if qubits not in cmap2:\n",
    "            noise_model2.add_quantum_error(error_2, ['cz'], qubits)\n",
    "        else:\n",
    "            noise_model2.add_quantum_error(error_3, ['cz'], qubits)\n",
    "\n",
    "    backend = AerSimulator(basis_gates=basis_gates, n_qubits=4,\n",
    "                           noise_model=noise_model2, coupling_map=cmap1)\n",
    "    \n",
    "    return backend\n",
    "\n",
    "def get_hop_counts(counts, ideal_prob):\n",
    "    count = 0\n",
    "    for state in counts.keys():\n",
    "        if state in ideal_prob.keys():\n",
    "            count += counts[state]\n",
    "    return count\n",
    "\n",
    "\n",
    "error1 = 0.0005\n",
    "error2 = 0.005\n",
    "be1 = get_backend_1(error1, error2)\n",
    "counts1 = be1.run(transpile(c1, backend=be1), shots=10000).result().get_counts()\n",
    "hop1 = get_hop_counts(counts1, ideal_prob)\n",
    "\n",
    "hop2 = []\n",
    "scales = np.r_[1.0:5.1:0.1]\n",
    "for scale in scales:\n",
    "    be2 = get_backend_2(error1, error2, scale*error2)\n",
    "    counts2 = be2.run(transpile(c2, backend=be2), shots=10000).result().get_counts()\n",
    "    hop2.append(get_hop_counts(counts2, ideal_prob))\n",
    "\n",
    "print(f\"Ideal outputs: {ideal_prob}\")\n",
    "\n",
    "plt.plot(scales, hop2)\n",
    "plt.hlines(hop1, scales[0], scales[-1], linestyles=\"dashed\", colors='k')\n",
    "plt.xlabel('scale factor (N.N.N._err/N.N._err)')\n",
    "plt.ylabel('heavy output counts')\n",
    "plt.show()"
   ]
  },
  {
   "cell_type": "code",
   "execution_count": 8,
   "metadata": {},
   "outputs": [
    {
     "data": {
      "text/html": [
       "<pre style=\"word-wrap: normal;white-space: pre;background: #fff0;line-height: 1.1;font-family: &quot;Courier New&quot;,Courier,monospace\">                             ┌────┐            ░       ┌─┐   \n",
       "q_2 -> 0 ─■────────────────■─┤ √X ├─■──────────░───────┤M├───\n",
       "          │                │ └────┘ │ ┌───┐    ░       └╥┘┌─┐\n",
       "q_3 -> 1 ─┼────────────────┼────────■─┤ X ├─■──░────────╫─┤M├\n",
       "          │ ┌───┐   ┌────┐ │          └───┘ │  ░    ┌─┐ ║ └╥┘\n",
       "q_1 -> 2 ─■─┤ X ├─■─┤ √X ├─■────────────────┼──░────┤M├─╫──╫─\n",
       "            └───┘ │ ├───┬┘                  │  ░ ┌─┐└╥┘ ║  ║ \n",
       "q_0 -> 3 ─────────■─┤ X ├───────────────────■──░─┤M├─╫──╫──╫─\n",
       "                    └───┘                      ░ └╥┘ ║  ║  ║ \n",
       " meas: 4/═════════════════════════════════════════╩══╩══╩══╩═\n",
       "                                                  0  1  2  3 </pre>"
      ],
      "text/plain": [
       "                             ┌────┐            ░       ┌─┐   \n",
       "q_2 -> 0 ─■────────────────■─┤ √X ├─■──────────░───────┤M├───\n",
       "          │                │ └────┘ │ ┌───┐    ░       └╥┘┌─┐\n",
       "q_3 -> 1 ─┼────────────────┼────────■─┤ X ├─■──░────────╫─┤M├\n",
       "          │ ┌───┐   ┌────┐ │          └───┘ │  ░    ┌─┐ ║ └╥┘\n",
       "q_1 -> 2 ─■─┤ X ├─■─┤ √X ├─■────────────────┼──░────┤M├─╫──╫─\n",
       "            └───┘ │ ├───┬┘                  │  ░ ┌─┐└╥┘ ║  ║ \n",
       "q_0 -> 3 ─────────■─┤ X ├───────────────────■──░─┤M├─╫──╫──╫─\n",
       "                    └───┘                      ░ └╥┘ ║  ║  ║ \n",
       " meas: 4/═════════════════════════════════════════╩══╩══╩══╩═\n",
       "                                                  0  1  2  3 "
      ]
     },
     "metadata": {},
     "output_type": "display_data"
    },
    {
     "data": {
      "text/html": [
       "<pre style=\"word-wrap: normal;white-space: pre;background: #fff0;line-height: 1.1;font-family: &quot;Courier New&quot;,Courier,monospace\">                    ┌───┐                      ░ ┌─┐         \n",
       "q_0 -> 0 ─────────■─┤ X ├───────────────────■──░─┤M├─────────\n",
       "            ┌───┐ │ ├───┴┐                  │  ░ └╥┘┌─┐      \n",
       "q_1 -> 1 ─■─┤ X ├─■─┤ √X ├─■────────────────┼──░──╫─┤M├──────\n",
       "          │ └───┘   └────┘ │          ┌───┐ │  ░  ║ └╥┘   ┌─┐\n",
       "q_3 -> 2 ─┼────────────────┼────────■─┤ X ├─■──░──╫──╫────┤M├\n",
       "          │                │ ┌────┐ │ └───┘    ░  ║  ║ ┌─┐└╥┘\n",
       "q_2 -> 3 ─■────────────────■─┤ √X ├─■──────────░──╫──╫─┤M├─╫─\n",
       "                             └────┘            ░  ║  ║ └╥┘ ║ \n",
       " meas: 4/═════════════════════════════════════════╩══╩══╩══╩═\n",
       "                                                  0  1  2  3 </pre>"
      ],
      "text/plain": [
       "                    ┌───┐                      ░ ┌─┐         \n",
       "q_0 -> 0 ─────────■─┤ X ├───────────────────■──░─┤M├─────────\n",
       "            ┌───┐ │ ├───┴┐                  │  ░ └╥┘┌─┐      \n",
       "q_1 -> 1 ─■─┤ X ├─■─┤ √X ├─■────────────────┼──░──╫─┤M├──────\n",
       "          │ └───┘   └────┘ │          ┌───┐ │  ░  ║ └╥┘   ┌─┐\n",
       "q_3 -> 2 ─┼────────────────┼────────■─┤ X ├─■──░──╫──╫────┤M├\n",
       "          │                │ ┌────┐ │ └───┘    ░  ║  ║ ┌─┐└╥┘\n",
       "q_2 -> 3 ─■────────────────■─┤ √X ├─■──────────░──╫──╫─┤M├─╫─\n",
       "                             └────┘            ░  ║  ║ └╥┘ ║ \n",
       " meas: 4/═════════════════════════════════════════╩══╩══╩══╩═\n",
       "                                                  0  1  2  3 "
      ]
     },
     "metadata": {},
     "output_type": "display_data"
    }
   ],
   "source": [
    "be_low = get_backend_2(error1, error2, error2)\n",
    "be_high = get_backend_2(error1, error2, 100*error2)\n",
    "\n",
    "c_low = transpile(c0, backend=be_low, optimization_level=3, coupling_map=cmap2)\n",
    "c_high = transpile(c0, backend=be_high, optimization_level=3, coupling_map=cmap2)\n",
    "\n",
    "display(c_low.draw(fold=-1))\n",
    "display(c_high.draw(fold=-1))"
   ]
  },
  {
   "cell_type": "code",
   "execution_count": null,
   "metadata": {},
   "outputs": [],
   "source": []
  }
 ],
 "metadata": {
  "kernelspec": {
   "display_name": "base",
   "language": "python",
   "name": "python3"
  },
  "language_info": {
   "codemirror_mode": {
    "name": "ipython",
    "version": 3
   },
   "file_extension": ".py",
   "mimetype": "text/x-python",
   "name": "python",
   "nbconvert_exporter": "python",
   "pygments_lexer": "ipython3",
   "version": "3.11.5"
  }
 },
 "nbformat": 4,
 "nbformat_minor": 2
}
