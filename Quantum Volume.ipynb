{
 "cells": [
  {
   "cell_type": "markdown",
   "metadata": {},
   "source": [
    "# Quantum Volume"
   ]
  },
  {
   "cell_type": "code",
   "execution_count": 2,
   "metadata": {},
   "outputs": [],
   "source": [
    "from qiskit_experiments.library import QuantumVolume\n",
    "from qiskit_experiments.framework import BatchExperiment\n",
    "from qiskit import transpile, execute\n",
    "from qiskit.circuit.library import QuantumVolume as QuantumVolumeCircuit\n",
    "from qiskit.quantum_info import Statevector\n",
    "\n",
    "from huayi_providers.fake_huayi37 import FakeHuayi37, FakeHuayi37V2\n",
    "from huayi_providers.fake_QuantinuumH2 import FakeQuantinuumh2, FakeQuantinuumh2V2\n",
    "from qiskit_ionq import IonQProvider\n",
    "from qiskit.providers.fake_provider import *\n",
    "from qiskit_aer.noise.noise_model import NoiseModel\n",
    "\n",
    "from qiskit import Aer\n",
    "from qiskit_aer import AerSimulator\n",
    "\n",
    "import pandas as pd"
   ]
  },
  {
   "cell_type": "markdown",
   "metadata": {},
   "source": [
    "## Use qiskit-experiments built-in QV measurement\n",
    "\n",
    "**Error message**\n",
    "\n",
    "Don't use V1 backend (including FakeHuayi12, FakeMontreal, ...)\n",
    "\n",
    "something wrong with:\n",
    "\n",
    "``transpiled_circuits = experiment._transpiled_circuits()``\n",
    "\n",
    "\n",
    "There is also an unknown problem when n_qubits or trials is too big when use V2 backend\n",
    "\n",
    "some discussions:\n",
    "\n",
    "https://github.com/Qiskit-Extensions/qiskit-experiments/issues/846\n"
   ]
  },
  {
   "cell_type": "code",
   "execution_count": null,
   "metadata": {},
   "outputs": [],
   "source": [
    "def collect_data(batch_data):\n",
    "    results_table = pd.DataFrame()\n",
    "    for i in range(batch_data.num_experiments):\n",
    "        qv_result = batch_data.child_data(i).analysis_results(\"quantum_volume\")\n",
    "        data = {'QV': qv_result.value} | {'quality': qv_result.quality} | qv_result.extra\n",
    "        results_table = pd.concat([results_table, pd.DataFrame(data, index=[i])], ignore_index=True)\n",
    "    return results_table"
   ]
  },
  {
   "cell_type": "code",
   "execution_count": null,
   "metadata": {},
   "outputs": [],
   "source": [
    "simulator_huayi = FakeHuayi37V2()\n",
    "simulator_montreal = FakeMontrealV2()\n",
    "\n",
    "# Each QuantumVolume() is an Experimet class\n",
    "# The length of tuple() is the circuit depth\n",
    "exps = [QuantumVolume(tuple(range(i)), trials=100) for i in range(3,7)]\n",
    "\n",
    "# Batch the experiments (with different depth) into one object\n",
    "batch_exp = BatchExperiment(exps)\n",
    "batch_exp.set_transpile_options(optimization_level=3)\n",
    "\n",
    "# Run with the specified backend\n",
    "data_huayi = batch_exp.run(simulator_huayi).block_for_results()\n",
    "data_montreal = batch_exp.run(simulator_montreal).block_for_results()\n",
    "\n",
    "# Collect the results in the 'results_table'\n",
    "results_huayi = collect_data(data_huayi)\n",
    "results_montreal = collect_data(data_montreal)\n",
    "\n",
    "# results_table = pd.DataFrame()\n",
    "# for i in range(batch_exp.num_experiments):\n",
    "#     qv_result = data_huayi.child_data(i).analysis_results(\"quantum_volume\")\n",
    "#     data = {'QV': qv_result.value} | {'quality': qv_result.quality} | qv_result.extra\n",
    "#     results_table = pd.concat([results_table, pd.DataFrame(data, index=[i])], ignore_index=True)\n",
    "\n",
    "display(results_huayi)\n",
    "display(data_huayi.child_data(batch_exp.num_experiments-1).figure(0))\n",
    "\n",
    "display(results_montreal)\n",
    "display(data_montreal.child_data(batch_exp.num_experiments-1).figure(0))"
   ]
  },
  {
   "cell_type": "code",
   "execution_count": null,
   "metadata": {},
   "outputs": [],
   "source": [
    "# Single run\n",
    "\n",
    "# Each QuantumVolume() is an Experimet class\n",
    "# The length of tuple() is the circuit depth\n",
    "exps = QuantumVolume(tuple(range(4)), trials=160) \n",
    "\n",
    "# Batch the experiments (with different depth) into one object\n",
    "exps.set_transpile_options(optimization_level=3)\n",
    "\n",
    "backend = AerSimulator.from_backend(FakeMontrealV2())\n",
    "# Run with the specified backend\n",
    "expdata = exps.run(backend).block_for_results()\n",
    "\n",
    "expdata.figure(0)"
   ]
  },
  {
   "cell_type": "markdown",
   "metadata": {},
   "source": [
    "## From qiskit textbook\n",
    "\n",
    "https://github.com/Qiskit/textbook/blob/main/notebooks/quantum-hardware/measuring-quantum-volume.ipynb\n",
    "\n",
    "Procedure:\n",
    "\n",
    "1. Set ``ncircuits`` and ``nshots``, sweep ``depth``\n",
    "2. Generate ``ncircuits`` random circuits\n",
    "3. For each ``circuit``, simulate heavy-ouput, w/o and w/ noise. The noisy simulations are averaged over ``nshots`` times"
   ]
  },
  {
   "cell_type": "code",
   "execution_count": null,
   "metadata": {},
   "outputs": [],
   "source": [
    "def get_heavy_outputs(counts):\n",
    "    \"\"\"Extract heavy outputs from counts dict.\n",
    "    Args:\n",
    "        counts (dict): Output of `.get_counts()`\n",
    "    Returns:\n",
    "        list: All states with measurement probability greater\n",
    "              than the mean.\n",
    "    \"\"\"\n",
    "    # sort the keys of `counts` by value of counts.get(key)\n",
    "    sorted_counts = sorted(counts.keys(), key=counts.get)\n",
    "    # discard results with probability < median\n",
    "    heavy_outputs = sorted_counts[len(sorted_counts)//2:]\n",
    "    return heavy_outputs\n",
    "\n",
    "def check_threshold(nheavies, ncircuits, nshots):\n",
    "    \"\"\"Evaluate adjusted threshold inequality for quantum volume.\n",
    "    Args:\n",
    "        nheavies (int): Total number of heavy outputs measured from device\n",
    "        ncircuits (int): Number of different square circuits run on device\n",
    "        nshots (int): Number of shots per circuit\n",
    "    Returns:\n",
    "        Bool:\n",
    "            True if heavy output probability is > 2/3 with 97% certainty,\n",
    "            otherwise False\n",
    "    \"\"\"\n",
    "    from numpy import sqrt\n",
    "    numerator = nheavies - 2*sqrt(nheavies*(nshots-(nheavies/ncircuits)))\n",
    "    return bool(numerator/(ncircuits*nshots) > 2/3)\n",
    "\n",
    "\n",
    "def test_qv(device, nqubits, ncircuits, nshots):\n",
    "    \"\"\"Try to achieve 2**nqubits quantum volume on device.\n",
    "    Args:\n",
    "        device (qiskit.providers.Backend): Device to test.\n",
    "        nqubits (int): Number of qubits to use for test.\n",
    "        ncircuits (int): Number of different circuits to run on the device.\n",
    "        nshots (int): Number of shots per circuit.\n",
    "    Returns:\n",
    "        Bool\n",
    "            True if device passes test, otherwise False.\n",
    "    \"\"\"\n",
    "    from numpy import sqrt\n",
    "\n",
    "    def get_ideal_probabilities(circuit):\n",
    "        \"\"\"Simulates circuit behaviour on a device with no errors.\"\"\"\n",
    "        state_vector = Statevector.from_instruction(\n",
    "                circuit.remove_final_measurements(inplace=False)\n",
    "            )\n",
    "        return state_vector.probabilities_dict()\n",
    "\n",
    "    def get_real_counts(circuit, backend, shots):\n",
    "        \"\"\"Runs circuit on device and returns counts dict.\"\"\"\n",
    "        t_circuit = transpile(circuit, backend, optimization_level=3)\n",
    "        job = backend.run(t_circuit,\n",
    "                          shots=shots,\n",
    "                          memory=True)\n",
    "        return job.result().get_counts(), t_circuit\n",
    "\n",
    "    # generate set of random circuits\n",
    "    qv_circuits = [\n",
    "        QuantumVolumeCircuit(nqubits) for c in range(ncircuits)\n",
    "    ]\n",
    "\n",
    "    nheavies = [0]*ncircuits  # number of measured heavy outputs\n",
    "    cum_HOP = [0]*ncircuits  # cumulant heavy-output percentage\n",
    "    cum_2sigma = [0]*ncircuits  # cumulant 2-sigma deviation\n",
    "    transpiled_circuits = []\n",
    "    for i, circuit in enumerate(qv_circuits):\n",
    "        # simulate circuit\n",
    "        ideal_heavy_outputs = get_heavy_outputs(\n",
    "            get_ideal_probabilities(circuit)\n",
    "        )\n",
    "        # run circuit on device\n",
    "        circuit.measure_all()\n",
    "        real_counts, t_circuit = get_real_counts(circuit, device, nshots)\n",
    "        transpiled_circuits.append(t_circuit)\n",
    "        # record whether device result is in the heavy outputs\n",
    "        for output, count in real_counts.items():\n",
    "            if output in ideal_heavy_outputs:\n",
    "                nheavies[i] += count\n",
    "        cum_HOP[i] = sum(nheavies[0:i+1]) / nshots / (i+1)\n",
    "        cum_2sigma[i] = 2 * sqrt( cum_HOP[i] * ( 1 - cum_HOP[i] ) / (i+1) )\n",
    "\n",
    "    # do statistical check to see if device passes test\n",
    "    is_pass = check_threshold(sum(nheavies), ncircuits, nshots)\n",
    "    # calculate percentage of measurements that are heavy outputs\n",
    "    percent_heavy_outputs = sum(nheavies)*100/(ncircuits*nshots)\n",
    "\n",
    "    results = {\n",
    "        \"backend\":device.name(),\n",
    "        \"n_qubits\":nqubits,\n",
    "        \"QV\": 2**nqubits, \n",
    "        \"HOP\": percent_heavy_outputs, \n",
    "        \"success\": is_pass, \n",
    "        \"n_circuits\": ncircuits,\n",
    "        \"n_shots\": nshots,\n",
    "        \"cum_HOP\":cum_HOP,\n",
    "        \"cum_2sigma\":cum_2sigma}\n",
    "\n",
    "    print(f\"Quantum Volume: {2**nqubits}\\n\"\n",
    "          f\"Percentage Heavy Outputs: {percent_heavy_outputs:.1f}%\\n\"\n",
    "          f\"Passed?: {is_pass}\\n\")\n",
    "    return results, qv_circuits, transpiled_circuits\n"
   ]
  },
  {
   "cell_type": "code",
   "execution_count": null,
   "metadata": {},
   "outputs": [],
   "source": [
    "ncircuits = 100\n",
    "nshots = 10\n",
    "\n",
    "result, qv_circs, tr_circs = test_qv(FakeQuantinuumh2(), 6, ncircuits=ncircuits, nshots=nshots)\n",
    "\n",
    "import matplotlib.pyplot as plt\n",
    "import numpy as np\n",
    "\n",
    "fig, ax = plt.subplots()\n",
    "ax.scatter(range(ncircuits), result[\"cum_HOP\"], s=6, c='r')\n",
    "ax.fill_between(range(ncircuits), \n",
    "                np.array(result[\"cum_HOP\"]) - np.array(result[\"cum_2sigma\"]), \n",
    "                np.array(result[\"cum_HOP\"]) + np.array(result[\"cum_2sigma\"]), color='b', alpha=0.4)\n",
    "ax.hlines(2/3, ax.get_xlim()[0], ax.get_xlim()[1], linestyle='dashed', color='k')\n",
    "ax.set_ylim([0.5,1])\n"
   ]
  },
  {
   "cell_type": "code",
   "execution_count": null,
   "metadata": {},
   "outputs": [],
   "source": [
    "import os\n",
    "import json\n",
    "import pandas as pd\n",
    "\n",
    "if not os.path.isdir(\"./QV_test\"):\n",
    "    os.mkdir(\"./QV_test\")\n",
    "\n",
    "ncircuits = 200\n",
    "nshots = 20\n",
    "\n",
    "results_huayi = pd.DataFrame()\n",
    "results_quantinuum = pd.DataFrame()\n",
    "\n",
    "for depth in range(1,11):\n",
    "\n",
    "    result, qv_circs, tr_circs = test_qv(FakeQuantinuumh2(), depth, ncircuits=ncircuits, nshots=nshots)\n",
    "    results_quantinuum = pd.concat([result, pd.DataFrame(result, columns=[\"backend\", \"n_qubits\", \"QV\", \"HOP\", \"success\", \"n_circuits\", \"n_shots\"], index=[0])], ignore_index=True)\n",
    "    qv_export = result | {\"QV_circuits\": [c.qasm() for c in qv_circs]} | {\"transpiled_circuits\": [c.qasm() for c in tr_circs]}\n",
    "    \n",
    "    with open(\"QV_test/QV_FakeQuantinuumh2_{}.json\".format(depth), 'w') as f:\n",
    "        json.dump(qv_export, f)\n",
    "\n",
    "\n",
    "\n",
    "for depth in range(1,11):\n",
    "\n",
    "    result, qv_circs, tr_circs = test_qv(FakeHuayi37(), depth, ncircuits=ncircuits, nshots=nshots)\n",
    "    results_huayi = pd.concat([result, pd.DataFrame(result, columns=[\"backend\", \"n_qubits\", \"QV\", \"HOP\", \"success\", \"n_circuits\", \"n_shots\"], index=[0])], ignore_index=True)\n",
    "    qv_export = result | {\"QV_circuits\": [c.qasm() for c in qv_circs]} | {\"transpiled_circuits\": [c.qasm() for c in tr_circs]}\n",
    "    \n",
    "    with open(\"QV_test/QV_FakeHuayi37_{}.json\".format(depth), 'w') as f:\n",
    "        json.dump(qv_export, f)"
   ]
  },
  {
   "cell_type": "code",
   "execution_count": 13,
   "metadata": {},
   "outputs": [
    {
     "data": {
      "text/html": [
       "<pre style=\"word-wrap: normal;white-space: pre;background: #fff0;line-height: 1.1;font-family: &quot;Courier New&quot;,Courier,monospace\">                    ┌──────────┐            ┌──────────┐            ┌──────────┐┌──────────┐ ░ ┌─┐         \n",
       "   q_0: ────────────┤0         ├────────────┤1         ├────────────┤1         ├┤1         ├─░─┤M├─────────\n",
       "        ┌──────────┐│          │┌──────────┐│          │┌──────────┐│          ││  su4_254 │ ░ └╥┘┌─┐      \n",
       "   q_1: ┤1         ├┤          ├┤0         ├┤          ├┤0         ├┤          ├┤0         ├─░──╫─┤M├──────\n",
       "        │  su4_544 ││  su4_116 ││  su4_778 ││  su4_365 ││  su4_378 ││  su4_782 │├──────────┤ ░  ║ └╥┘┌─┐   \n",
       "   q_2: ┤0         ├┤          ├┤1         ├┤          ├┤1         ├┤          ├┤0         ├─░──╫──╫─┤M├───\n",
       "        └──────────┘│          │└──────────┘│          │└──────────┘│          ││  su4_967 │ ░  ║  ║ └╥┘┌─┐\n",
       "   q_3: ────────────┤1         ├────────────┤0         ├────────────┤0         ├┤1         ├─░──╫──╫──╫─┤M├\n",
       "                    └──────────┘            └──────────┘            └──────────┘└──────────┘ ░  ║  ║  ║ └╥┘\n",
       "meas: 4/════════════════════════════════════════════════════════════════════════════════════════╩══╩══╩══╩═\n",
       "                                                                                                0  1  2  3 </pre>"
      ],
      "text/plain": [
       "                    ┌──────────┐            ┌──────────┐            ┌──────────┐┌──────────┐ ░ ┌─┐         \n",
       "   q_0: ────────────┤0         ├────────────┤1         ├────────────┤1         ├┤1         ├─░─┤M├─────────\n",
       "        ┌──────────┐│          │┌──────────┐│          │┌──────────┐│          ││  su4_254 │ ░ └╥┘┌─┐      \n",
       "   q_1: ┤1         ├┤          ├┤0         ├┤          ├┤0         ├┤          ├┤0         ├─░──╫─┤M├──────\n",
       "        │  su4_544 ││  su4_116 ││  su4_778 ││  su4_365 ││  su4_378 ││  su4_782 │├──────────┤ ░  ║ └╥┘┌─┐   \n",
       "   q_2: ┤0         ├┤          ├┤1         ├┤          ├┤1         ├┤          ├┤0         ├─░──╫──╫─┤M├───\n",
       "        └──────────┘│          │└──────────┘│          │└──────────┘│          ││  su4_967 │ ░  ║  ║ └╥┘┌─┐\n",
       "   q_3: ────────────┤1         ├────────────┤0         ├────────────┤0         ├┤1         ├─░──╫──╫──╫─┤M├\n",
       "                    └──────────┘            └──────────┘            └──────────┘└──────────┘ ░  ║  ║  ║ └╥┘\n",
       "meas: 4/════════════════════════════════════════════════════════════════════════════════════════╩══╩══╩══╩═\n",
       "                                                                                                0  1  2  3 "
      ]
     },
     "metadata": {},
     "output_type": "display_data"
    },
    {
     "data": {
      "text/html": [
       "<pre style=\"word-wrap: normal;white-space: pre;background: #fff0;line-height: 1.1;font-family: &quot;Courier New&quot;,Courier,monospace\">global phase: 4.8225\n",
       "           ┌────────────┐ ┌────────────┐ ┌────────────┐    ┌────────────┐┌─────────┐     ┌─────────┐  ┌──────────┐               ┌────────────┐ ┌────────────┐┌─────────────┐       ┌────────────┐»\n",
       "q_1 -> 24 ─┤ Rx(2.8071) ├─┤ Ry(2.2009) ├─┤ Rx(1.1654) ├─■──┤ Rx(2.7219) ├┤ Ry(π/2) ├─■───┤ Rx(π/2) ├──┤ Ry(-π/2) ├────────────■──┤ Rx(1.4398) ├─┤ Ry(1.1264) ├┤ Rx(-1.4728) ├────■──┤ Rx(3.0432) ├»\n",
       "           ├────────────┤ ├────────────┤ ├───────────┬┘ │ ┌┴────────────┤└─────────┘ │ ┌─┴─────────┴─┐├─────────┬┘┌─────────┐ │ ┌┴────────────┤ ├────────────┤├─────────────┤    │  ├────────────┤»\n",
       "q_2 -> 25 ─┤ Rx(2.4167) ├─┤ Ry(1.5808) ├─┤ Rx(-1.38) ├──■─┤ Rx(0.62465) ├────────────■─┤ Rx(-2.1067) ├┤ Ry(π/2) ├─┤ Rx(π/2) ├─■─┤ Rx(-2.8932) ├─┤ Ry(1.2878) ├┤ Rx(0.83767) ├─■──┼──┤ Rx(2.3776) ├»\n",
       "           ├────────────┤┌┴────────────┤┌┴───────────┴┐   └┬────────────┤┌─────────┐   └─┬─────────┬─┘├─────────┴┐└─────────┘   ├─────────────┤ └┬──────────┬┘├─────────────┤ │  │ ┌┴────────────┤»\n",
       "q_3 -> 26 ─┤ Rx(2.9074) ├┤ Ry(0.88096) ├┤ Rx(-1.8059) ├─■──┤ Rx(2.5747) ├┤ Ry(π/2) ├─■───┤ Rx(π/2) ├──┤ Ry(-π/2) ├────────────■─┤ Rx(0.46408) ├──┤ Ry(2.05) ├─┤ Rx(-1.3719) ├─■──┼─┤ Rx(0.28425) ├»\n",
       "          ┌┴────────────┤└┬────────────┤├─────────────┤ │ ┌┴────────────┤└─────────┘ │ ┌─┴─────────┴─┐├─────────┬┘┌─────────┐ │ ├─────────────┴┐┌┴──────────┴┐└┬───────────┬┘    │ └─┬──────────┬┘»\n",
       "q_0 -> 27 ┤ Rx(-1.4174) ├─┤ Ry(1.0027) ├┤ Rx(-3.0225) ├─■─┤ Rx(0.48722) ├────────────■─┤ Rx(-1.5408) ├┤ Ry(π/2) ├─┤ Rx(π/2) ├─■─┤ Rx(-0.57586) ├┤ Ry(1.4554) ├─┤ Rx(1.924) ├─────■───┤ Rx(1.03) ├─»\n",
       "          └─────────────┘ └────────────┘└─────────────┘   └─────────────┘              └─────────────┘└─────────┘ └─────────┘   └──────────────┘└────────────┘ └───────────┘         └──────────┘ »\n",
       "  meas: 4/════════════════════════════════════════════════════════════════════════════════════════════════════════════════════════════════════════════════════════════════════════════════════════»\n",
       "                                                                                                                                                                                                  »\n",
       "«          ┌─────────┐        ┌─────────┐  ┌──────────┐                 ┌──────────────┐ ┌────────────┐  ┌────────────┐  ░    ┌─┐      \n",
       "«q_1 -> 24 ┤ Ry(π/2) ├────■───┤ Rx(π/2) ├──┤ Ry(-π/2) ├───────────────■─┤ Rx(-0.70996) ├─┤ Ry(2.1338) ├──┤ Rx(2.3961) ├──░────┤M├──────\n",
       "«          ├─────────┤    │   ├─────────┤  ├──────────┤               │ ├─────────────┬┘ ├────────────┤┌─┴────────────┴┐ ░    └╥┘┌─┐   \n",
       "«q_2 -> 25 ┤ Ry(π/2) ├─■──┼───┤ Rx(π/2) ├──┤ Ry(-π/2) ├────────────■──┼─┤ Rx(0.41955) ├──┤ Ry(2.3693) ├┤ Rx(-0.074909) ├─░─────╫─┤M├───\n",
       "«          └─────────┘ │  │ ┌─┴─────────┴─┐├─────────┬┘┌─────────┐ │  │ ├─────────────┤ ┌┴────────────┤└┬─────────────┬┘ ░     ║ └╥┘┌─┐\n",
       "«q_3 -> 26 ────────────■──┼─┤ Rx(-1.5406) ├┤ Ry(π/2) ├─┤ Rx(π/2) ├─■──┼─┤ Rx(-1.5104) ├─┤ Ry(0.96145) ├─┤ Rx(0.92334) ├──░─────╫──╫─┤M├\n",
       "«                         │ ├─────────────┤├─────────┤ ├─────────┤    │ ├─────────────┤ └┬────────────┤ └┬────────────┤  ░ ┌─┐ ║  ║ └╥┘\n",
       "«q_0 -> 27 ───────────────■─┤ Rx(-1.5791) ├┤ Ry(π/2) ├─┤ Rx(π/2) ├────■─┤ Rx(0.13384) ├──┤ Ry(2.9858) ├──┤ Rx(1.3982) ├──░─┤M├─╫──╫──╫─\n",
       "«                           └─────────────┘└─────────┘ └─────────┘      └─────────────┘  └────────────┘  └────────────┘  ░ └╥┘ ║  ║  ║ \n",
       "«  meas: 4/═════════════════════════════════════════════════════════════════════════════════════════════════════════════════╩══╩══╩══╩═\n",
       "«                                                                                                                           0  1  2  3 </pre>"
      ],
      "text/plain": [
       "global phase: 4.8225\n",
       "           ┌────────────┐ ┌────────────┐ ┌────────────┐    ┌────────────┐┌─────────┐     ┌─────────┐  ┌──────────┐               ┌────────────┐ ┌────────────┐┌─────────────┐       ┌────────────┐»\n",
       "q_1 -> 24 ─┤ Rx(2.8071) ├─┤ Ry(2.2009) ├─┤ Rx(1.1654) ├─■──┤ Rx(2.7219) ├┤ Ry(π/2) ├─■───┤ Rx(π/2) ├──┤ Ry(-π/2) ├────────────■──┤ Rx(1.4398) ├─┤ Ry(1.1264) ├┤ Rx(-1.4728) ├────■──┤ Rx(3.0432) ├»\n",
       "           ├────────────┤ ├────────────┤ ├───────────┬┘ │ ┌┴────────────┤└─────────┘ │ ┌─┴─────────┴─┐├─────────┬┘┌─────────┐ │ ┌┴────────────┤ ├────────────┤├─────────────┤    │  ├────────────┤»\n",
       "q_2 -> 25 ─┤ Rx(2.4167) ├─┤ Ry(1.5808) ├─┤ Rx(-1.38) ├──■─┤ Rx(0.62465) ├────────────■─┤ Rx(-2.1067) ├┤ Ry(π/2) ├─┤ Rx(π/2) ├─■─┤ Rx(-2.8932) ├─┤ Ry(1.2878) ├┤ Rx(0.83767) ├─■──┼──┤ Rx(2.3776) ├»\n",
       "           ├────────────┤┌┴────────────┤┌┴───────────┴┐   └┬────────────┤┌─────────┐   └─┬─────────┬─┘├─────────┴┐└─────────┘   ├─────────────┤ └┬──────────┬┘├─────────────┤ │  │ ┌┴────────────┤»\n",
       "q_3 -> 26 ─┤ Rx(2.9074) ├┤ Ry(0.88096) ├┤ Rx(-1.8059) ├─■──┤ Rx(2.5747) ├┤ Ry(π/2) ├─■───┤ Rx(π/2) ├──┤ Ry(-π/2) ├────────────■─┤ Rx(0.46408) ├──┤ Ry(2.05) ├─┤ Rx(-1.3719) ├─■──┼─┤ Rx(0.28425) ├»\n",
       "          ┌┴────────────┤└┬────────────┤├─────────────┤ │ ┌┴────────────┤└─────────┘ │ ┌─┴─────────┴─┐├─────────┬┘┌─────────┐ │ ├─────────────┴┐┌┴──────────┴┐└┬───────────┬┘    │ └─┬──────────┬┘»\n",
       "q_0 -> 27 ┤ Rx(-1.4174) ├─┤ Ry(1.0027) ├┤ Rx(-3.0225) ├─■─┤ Rx(0.48722) ├────────────■─┤ Rx(-1.5408) ├┤ Ry(π/2) ├─┤ Rx(π/2) ├─■─┤ Rx(-0.57586) ├┤ Ry(1.4554) ├─┤ Rx(1.924) ├─────■───┤ Rx(1.03) ├─»\n",
       "          └─────────────┘ └────────────┘└─────────────┘   └─────────────┘              └─────────────┘└─────────┘ └─────────┘   └──────────────┘└────────────┘ └───────────┘         └──────────┘ »\n",
       "  meas: 4/════════════════════════════════════════════════════════════════════════════════════════════════════════════════════════════════════════════════════════════════════════════════════════»\n",
       "                                                                                                                                                                                                  »\n",
       "«          ┌─────────┐        ┌─────────┐  ┌──────────┐                 ┌──────────────┐ ┌────────────┐  ┌────────────┐  ░    ┌─┐      \n",
       "«q_1 -> 24 ┤ Ry(π/2) ├────■───┤ Rx(π/2) ├──┤ Ry(-π/2) ├───────────────■─┤ Rx(-0.70996) ├─┤ Ry(2.1338) ├──┤ Rx(2.3961) ├──░────┤M├──────\n",
       "«          ├─────────┤    │   ├─────────┤  ├──────────┤               │ ├─────────────┬┘ ├────────────┤┌─┴────────────┴┐ ░    └╥┘┌─┐   \n",
       "«q_2 -> 25 ┤ Ry(π/2) ├─■──┼───┤ Rx(π/2) ├──┤ Ry(-π/2) ├────────────■──┼─┤ Rx(0.41955) ├──┤ Ry(2.3693) ├┤ Rx(-0.074909) ├─░─────╫─┤M├───\n",
       "«          └─────────┘ │  │ ┌─┴─────────┴─┐├─────────┬┘┌─────────┐ │  │ ├─────────────┤ ┌┴────────────┤└┬─────────────┬┘ ░     ║ └╥┘┌─┐\n",
       "«q_3 -> 26 ────────────■──┼─┤ Rx(-1.5406) ├┤ Ry(π/2) ├─┤ Rx(π/2) ├─■──┼─┤ Rx(-1.5104) ├─┤ Ry(0.96145) ├─┤ Rx(0.92334) ├──░─────╫──╫─┤M├\n",
       "«                         │ ├─────────────┤├─────────┤ ├─────────┤    │ ├─────────────┤ └┬────────────┤ └┬────────────┤  ░ ┌─┐ ║  ║ └╥┘\n",
       "«q_0 -> 27 ───────────────■─┤ Rx(-1.5791) ├┤ Ry(π/2) ├─┤ Rx(π/2) ├────■─┤ Rx(0.13384) ├──┤ Ry(2.9858) ├──┤ Rx(1.3982) ├──░─┤M├─╫──╫──╫─\n",
       "«                           └─────────────┘└─────────┘ └─────────┘      └─────────────┘  └────────────┘  └────────────┘  ░ └╥┘ ║  ║  ║ \n",
       "«  meas: 4/═════════════════════════════════════════════════════════════════════════════════════════════════════════════════╩══╩══╩══╩═\n",
       "«                                                                                                                           0  1  2  3 "
      ]
     },
     "metadata": {},
     "output_type": "display_data"
    }
   ],
   "source": [
    "qv_circ = QuantumVolumeCircuit(4)\n",
    "qv_circ.measure_all()\n",
    "tr_circ = transpile(qv_circ, FakeHuayi37(), optimization_level=3)\n",
    "\n",
    "display(qv_circ.decompose().draw(fold=200))\n",
    "display(tr_circ.draw(fold=200, idle_wires=False))"
   ]
  },
  {
   "cell_type": "code",
   "execution_count": 11,
   "metadata": {},
   "outputs": [
    {
     "data": {
      "text/plain": [
       "{'001111': 1,\n",
       " '100110': 4,\n",
       " '110001': 1,\n",
       " '101111': 3,\n",
       " '000110': 4,\n",
       " '100100': 2,\n",
       " '001101': 2,\n",
       " '000011': 1,\n",
       " '110100': 3,\n",
       " '101100': 3,\n",
       " '001011': 4,\n",
       " '100010': 4,\n",
       " '111110': 3,\n",
       " '101010': 1,\n",
       " '000001': 2,\n",
       " '110110': 3,\n",
       " '110010': 1,\n",
       " '000101': 1,\n",
       " '101110': 2,\n",
       " '001110': 3,\n",
       " '111011': 2,\n",
       " '100101': 1,\n",
       " '000100': 1,\n",
       " '101101': 1,\n",
       " '100011': 1,\n",
       " '001100': 3,\n",
       " '111101': 5,\n",
       " '110000': 1,\n",
       " '000111': 2,\n",
       " '011010': 4,\n",
       " '010111': 2,\n",
       " '011011': 1,\n",
       " '011000': 1,\n",
       " '110111': 2,\n",
       " '000000': 1,\n",
       " '010000': 3,\n",
       " '011001': 1,\n",
       " '000010': 1,\n",
       " '101011': 1,\n",
       " '011100': 2,\n",
       " '010110': 1,\n",
       " '101001': 2,\n",
       " '010100': 1,\n",
       " '001000': 2,\n",
       " '001001': 2,\n",
       " '100000': 2,\n",
       " '111111': 2,\n",
       " '100111': 1,\n",
       " '011101': 1,\n",
       " '011111': 1,\n",
       " '010001': 1}"
      ]
     },
     "execution_count": 11,
     "metadata": {},
     "output_type": "execute_result"
    }
   ],
   "source": [
    "job = FakeHuayi37().run(tr_circ, shots=100, memory=True)\n",
    "job.result().get_counts()"
   ]
  },
  {
   "cell_type": "code",
   "execution_count": 30,
   "metadata": {},
   "outputs": [
    {
     "data": {
      "text/html": [
       "<pre style=\"word-wrap: normal;white-space: pre;background: #fff0;line-height: 1.1;font-family: &quot;Courier New&quot;,Courier,monospace\">           \n",
       "q_0: ─■────\n",
       "      │    \n",
       "q_1: ─┼──■─\n",
       "      │  │ \n",
       "q_2: ─┼──■─\n",
       "      │    \n",
       "q_3: ─■────\n",
       "           </pre>"
      ],
      "text/plain": [
       "           \n",
       "q_0: ─■────\n",
       "      │    \n",
       "q_1: ─┼──■─\n",
       "      │  │ \n",
       "q_2: ─┼──■─\n",
       "      │    \n",
       "q_3: ─■────\n",
       "           "
      ]
     },
     "metadata": {},
     "output_type": "display_data"
    },
    {
     "data": {
      "text/html": [
       "<pre style=\"word-wrap: normal;white-space: pre;background: #fff0;line-height: 1.1;font-family: &quot;Courier New&quot;,Courier,monospace\">        \n",
       "q_0: ─■─\n",
       "      │ \n",
       "q_1: ─■─\n",
       "        \n",
       "q_2: ─■─\n",
       "      │ \n",
       "q_3: ─■─\n",
       "        </pre>"
      ],
      "text/plain": [
       "        \n",
       "q_0: ─■─\n",
       "      │ \n",
       "q_1: ─■─\n",
       "        \n",
       "q_2: ─■─\n",
       "      │ \n",
       "q_3: ─■─\n",
       "        "
      ]
     },
     "metadata": {},
     "output_type": "display_data"
    },
    {
     "data": {
      "image/png": "[encoded data removed]",
      "text/plain": [
       "<Figure size 640x480 with 1 Axes>"
      ]
     },
     "metadata": {},
     "output_type": "display_data"
    },
    {
     "data": {
      "image/png": "[encoded data removed]",
      "text/plain": [
       "<Figure size 640x480 with 1 Axes>"
      ]
     },
     "metadata": {},
     "output_type": "display_data"
    }
   ],
   "source": [
    "from qiskit import QuantumRegister\n",
    "from qiskit import QuantumCircuit, execute\n",
    "from qiskit import Aer\n",
    "import numpy as np\n",
    "import matplotlib.pyplot as plt\n",
    "\n",
    "\n",
    "q = QuantumRegister(4,'q')\n",
    "\n",
    "c1 = QuantumCircuit(q)\n",
    "c1.cz(q[0],q[3])\n",
    "c1.cz(q[1],q[2])\n",
    "job = execute(c1, Aer.get_backend('unitary_simulator'), shots=1)\n",
    "M1 = job.result().get_unitary(c1,2).data\n",
    "\n",
    "\n",
    "c2 = QuantumCircuit(q)\n",
    "# c2.cz(q[1],q[2])\n",
    "c2.cz(q[0],q[1])\n",
    "c2.cz(q[2],q[3])\n",
    "# c2.cz(q[1],q[2])\n",
    "job = execute(c2, Aer.get_backend('unitary_simulator'), shots=1)\n",
    "M2 = job.result().get_unitary(c2,2).data\n",
    "\n",
    "display(c1.draw())\n",
    "fig, ax = plt.subplots()\n",
    "im = ax.imshow(np.real( M1 ))\n",
    "\n",
    "\n",
    "display(c2.draw())\n",
    "fig, ax = plt.subplots()\n",
    "im = ax.imshow(np.real( M2 ))\n"
   ]
  },
  {
   "cell_type": "code",
   "execution_count": 105,
   "metadata": {},
   "outputs": [
    {
     "data": {
      "text/plain": [
       "{'1001': 0.25, '1011': 0.25, '1101': 0.25, '1111': 0.25}"
      ]
     },
     "metadata": {},
     "output_type": "display_data"
    },
    {
     "data": {
      "text/html": [
       "<pre style=\"word-wrap: normal;white-space: pre;background: #fff0;line-height: 1.1;font-family: &quot;Courier New&quot;,Courier,monospace\">                   ┌───┐                      ░ ┌─┐         \n",
       "   q_0: ─────────■─┤ X ├───────────────────■──░─┤M├─────────\n",
       "           ┌───┐ │ ├───┴┐                  │  ░ └╥┘┌─┐      \n",
       "   q_1: ─■─┤ X ├─■─┤ √X ├─■────────────────┼──░──╫─┤M├──────\n",
       "         │ └───┘   └────┘ │ ┌────┐         │  ░  ║ └╥┘┌─┐   \n",
       "   q_2: ─■────────────────■─┤ √X ├─■───────┼──░──╫──╫─┤M├───\n",
       "                            └────┘ │ ┌───┐ │  ░  ║  ║ └╥┘┌─┐\n",
       "   q_3: ───────────────────────────■─┤ X ├─■──░──╫──╫──╫─┤M├\n",
       "                                     └───┘    ░  ║  ║  ║ └╥┘\n",
       "meas: 4/═════════════════════════════════════════╩══╩══╩══╩═\n",
       "                                                 0  1  2  3 </pre>"
      ],
      "text/plain": [
       "                   ┌───┐                      ░ ┌─┐         \n",
       "   q_0: ─────────■─┤ X ├───────────────────■──░─┤M├─────────\n",
       "           ┌───┐ │ ├───┴┐                  │  ░ └╥┘┌─┐      \n",
       "   q_1: ─■─┤ X ├─■─┤ √X ├─■────────────────┼──░──╫─┤M├──────\n",
       "         │ └───┘   └────┘ │ ┌────┐         │  ░  ║ └╥┘┌─┐   \n",
       "   q_2: ─■────────────────■─┤ √X ├─■───────┼──░──╫──╫─┤M├───\n",
       "                            └────┘ │ ┌───┐ │  ░  ║  ║ └╥┘┌─┐\n",
       "   q_3: ───────────────────────────■─┤ X ├─■──░──╫──╫──╫─┤M├\n",
       "                                     └───┘    ░  ║  ║  ║ └╥┘\n",
       "meas: 4/═════════════════════════════════════════╩══╩══╩══╩═\n",
       "                                                 0  1  2  3 "
      ]
     },
     "metadata": {},
     "output_type": "display_data"
    },
    {
     "data": {
      "text/html": [
       "<pre style=\"word-wrap: normal;white-space: pre;background: #fff0;line-height: 1.1;font-family: &quot;Courier New&quot;,Courier,monospace\">            ┌─────────────┐┌────┐                                           ┌────────┐  ┌────┐    ┌────┐┌─────────────┐                                   ░    ┌─┐      \n",
       "q_2 -> 0 ─■─┤ Rz(-1.8613) ├┤ √X ├─────────────────────────────────────■─────┤ Rz(-π) ├──┤ √X ├──■─┤ √X ├┤ Rz(-1.5635) ├───────────────────────────────────░────┤M├──────\n",
       "          │ └────┬───┬────┘└────┘   ┌────┐  ┌─────────────┐┌────┐     │     └─┬────┬─┘┌─┴────┴┐ │ ├────┤└┬────────────┤┌────┐                             ░    └╥┘┌─┐   \n",
       "q_1 -> 1 ─■──────┤ X ├───────■──────┤ √X ├──┤ Rz(-1.5781) ├┤ √X ├─────■───────┤ √X ├──┤ Rz(π) ├─■─┤ √X ├─┤ Rz(1.8613) ├┤ √X ├──────────────────■──────────░─────╫─┤M├───\n",
       "                 └───┘       │   ┌──┴────┴─┐└────┬────┬───┘└────┘   ┌────┐  ┌─┴────┴┐ └───────┘   ├────┤ └─┬───────┬──┘└────┘┌────┐┌─────────┐ │ ┌───┐    ░     ║ └╥┘┌─┐\n",
       "q_0 -> 2 ────────────────────■───┤ Rz(π/2) ├─────┤ √X ├──────■──────┤ √X ├──┤ Rz(π) ├───────────■─┤ √X ├───┤ Rz(π) ├─────■───┤ √X ├┤ Rz(π/2) ├─■─┤ X ├─■──░─────╫──╫─┤M├\n",
       "                                 └─────────┘     └────┘      │   ┌──┴────┴─┐└─┬────┬┘ ┌───────┐ │ ├────┤  ┌┴───────┴┐    │   └────┘└─────────┘   └───┘ │  ░ ┌─┐ ║  ║ └╥┘\n",
       "q_3 -> 3 ────────────────────────────────────────────────────■───┤ Rz(π/2) ├──┤ √X ├──┤ Rz(π) ├─■─┤ √X ├──┤ Rz(π/2) ├────■─────────────────────────────■──░─┤M├─╫──╫──╫─\n",
       "                                                                 └─────────┘  └────┘  └───────┘   └────┘  └─────────┘                                     ░ └╥┘ ║  ║  ║ \n",
       " meas: 4/════════════════════════════════════════════════════════════════════════════════════════════════════════════════════════════════════════════════════╩══╩══╩══╩═\n",
       "                                                                                                                                                             0  1  2  3 </pre>"
      ],
      "text/plain": [
       "            ┌─────────────┐┌────┐                                           ┌────────┐  ┌────┐    ┌────┐┌─────────────┐                                   ░    ┌─┐      \n",
       "q_2 -> 0 ─■─┤ Rz(-1.8613) ├┤ √X ├─────────────────────────────────────■─────┤ Rz(-π) ├──┤ √X ├──■─┤ √X ├┤ Rz(-1.5635) ├───────────────────────────────────░────┤M├──────\n",
       "          │ └────┬───┬────┘└────┘   ┌────┐  ┌─────────────┐┌────┐     │     └─┬────┬─┘┌─┴────┴┐ │ ├────┤└┬────────────┤┌────┐                             ░    └╥┘┌─┐   \n",
       "q_1 -> 1 ─■──────┤ X ├───────■──────┤ √X ├──┤ Rz(-1.5781) ├┤ √X ├─────■───────┤ √X ├──┤ Rz(π) ├─■─┤ √X ├─┤ Rz(1.8613) ├┤ √X ├──────────────────■──────────░─────╫─┤M├───\n",
       "                 └───┘       │   ┌──┴────┴─┐└────┬────┬───┘└────┘   ┌────┐  ┌─┴────┴┐ └───────┘   ├────┤ └─┬───────┬──┘└────┘┌────┐┌─────────┐ │ ┌───┐    ░     ║ └╥┘┌─┐\n",
       "q_0 -> 2 ────────────────────■───┤ Rz(π/2) ├─────┤ √X ├──────■──────┤ √X ├──┤ Rz(π) ├───────────■─┤ √X ├───┤ Rz(π) ├─────■───┤ √X ├┤ Rz(π/2) ├─■─┤ X ├─■──░─────╫──╫─┤M├\n",
       "                                 └─────────┘     └────┘      │   ┌──┴────┴─┐└─┬────┬┘ ┌───────┐ │ ├────┤  ┌┴───────┴┐    │   └────┘└─────────┘   └───┘ │  ░ ┌─┐ ║  ║ └╥┘\n",
       "q_3 -> 3 ────────────────────────────────────────────────────■───┤ Rz(π/2) ├──┤ √X ├──┤ Rz(π) ├─■─┤ √X ├──┤ Rz(π/2) ├────■─────────────────────────────■──░─┤M├─╫──╫──╫─\n",
       "                                                                 └─────────┘  └────┘  └───────┘   └────┘  └─────────┘                                     ░ └╥┘ ║  ║  ║ \n",
       " meas: 4/════════════════════════════════════════════════════════════════════════════════════════════════════════════════════════════════════════════════════╩══╩══╩══╩═\n",
       "                                                                                                                                                             0  1  2  3 "
      ]
     },
     "metadata": {},
     "output_type": "display_data"
    },
    {
     "data": {
      "text/html": [
       "<pre style=\"word-wrap: normal;white-space: pre;background: #fff0;line-height: 1.1;font-family: &quot;Courier New&quot;,Courier,monospace\">                             ┌────┐            ░       ┌─┐   \n",
       "q_2 -> 0 ─■────────────────■─┤ √X ├─■──────────░───────┤M├───\n",
       "          │                │ └────┘ │ ┌───┐    ░       └╥┘┌─┐\n",
       "q_3 -> 1 ─┼────────────────┼────────■─┤ X ├─■──░────────╫─┤M├\n",
       "          │ ┌───┐   ┌────┐ │          └───┘ │  ░    ┌─┐ ║ └╥┘\n",
       "q_1 -> 2 ─■─┤ X ├─■─┤ √X ├─■────────────────┼──░────┤M├─╫──╫─\n",
       "            └───┘ │ ├───┬┘                  │  ░ ┌─┐└╥┘ ║  ║ \n",
       "q_0 -> 3 ─────────■─┤ X ├───────────────────■──░─┤M├─╫──╫──╫─\n",
       "                    └───┘                      ░ └╥┘ ║  ║  ║ \n",
       " meas: 4/═════════════════════════════════════════╩══╩══╩══╩═\n",
       "                                                  0  1  2  3 </pre>"
      ],
      "text/plain": [
       "                             ┌────┐            ░       ┌─┐   \n",
       "q_2 -> 0 ─■────────────────■─┤ √X ├─■──────────░───────┤M├───\n",
       "          │                │ └────┘ │ ┌───┐    ░       └╥┘┌─┐\n",
       "q_3 -> 1 ─┼────────────────┼────────■─┤ X ├─■──░────────╫─┤M├\n",
       "          │ ┌───┐   ┌────┐ │          └───┘ │  ░    ┌─┐ ║ └╥┘\n",
       "q_1 -> 2 ─■─┤ X ├─■─┤ √X ├─■────────────────┼──░────┤M├─╫──╫─\n",
       "            └───┘ │ ├───┬┘                  │  ░ ┌─┐└╥┘ ║  ║ \n",
       "q_0 -> 3 ─────────■─┤ X ├───────────────────■──░─┤M├─╫──╫──╫─\n",
       "                    └───┘                      ░ └╥┘ ║  ║  ║ \n",
       " meas: 4/═════════════════════════════════════════╩══╩══╩══╩═\n",
       "                                                  0  1  2  3 "
      ]
     },
     "metadata": {},
     "output_type": "display_data"
    }
   ],
   "source": [
    "# c1: ideal circuit (no noise, fully connected)\n",
    "# c2: nearest-neighbour circuit, 1qb_err = 0.01%, N.N_err = 0.1% (within N.N.)\n",
    "# c3: next-nearest-neighbour circuit, 1qb_err = 0.01%, N.N_err = 0.1%, N.N.N._err increases\n",
    "\n",
    "c1 = QuantumCircuit(q)\n",
    "c1.cz(q[1],q[2])\n",
    "c1.x(q[1])\n",
    "c1.cz(q[0],q[1])\n",
    "c1.sx(q[1])\n",
    "c1.cz(q[1],q[2])\n",
    "c1.sx(q[2])\n",
    "c1.cz(q[2],q[3])\n",
    "c1.x(q[3])\n",
    "c1.x(q[0])\n",
    "c1.cz(q[3],q[0])\n",
    "\n",
    "c1.measure_all()\n",
    "\n",
    "state_vector = Statevector.from_instruction(\n",
    "    c1.remove_final_measurements(inplace=False) )\n",
    "ideal_prob = state_vector.probabilities_dict()\n",
    "\n",
    "display(ideal_prob)\n",
    "\n",
    "\n",
    "basis_gates = ['x','sx','rz','cz']\n",
    "cmap2 = [[0,1],[1,0],[1,2],[2,1],[2,3],[3,2]]\n",
    "cmap3 = [[0,1],[0,2],[1,0],[1,2],[1,3],[2,0],[2,1],[2,3],[3,1],[3,2]]\n",
    "\n",
    "c2 = transpile(c1, coupling_map=[[0,1],[1,0],[1,2],[2,1],[2,3],[3,2]],basis_gates=['x','sx','rz','cz'], optimization_level=3)\n",
    "c3 = transpile(c1, coupling_map=[[0,1],[0,2],[1,0],[1,2],[1,3],[2,0],[2,1],[2,3],[3,1],[3,2]],basis_gates=['x','sx','rz','cz'], optimization_level=3)\n",
    "\n",
    "display(c1.draw())\n",
    "display(c2.draw(fold=-1))\n",
    "display(c3.draw(fold=-1))"
   ]
  },
  {
   "cell_type": "code",
   "execution_count": 121,
   "metadata": {},
   "outputs": [
    {
     "data": {
      "text/plain": [
       "{'1001': 0.25, '1011': 0.25, '1101': 0.25, '1111': 0.25}"
      ]
     },
     "metadata": {},
     "output_type": "display_data"
    },
    {
     "data": {
      "text/plain": [
       "{'1011': 2390,\n",
       " '0100': 15,\n",
       " '1101': 2378,\n",
       " '1001': 2457,\n",
       " '0110': 9,\n",
       " '1111': 2560,\n",
       " '0111': 24,\n",
       " '1110': 24,\n",
       " '0011': 10,\n",
       " '0000': 21,\n",
       " '1010': 25,\n",
       " '0010': 15,\n",
       " '1100': 20,\n",
       " '0101': 22,\n",
       " '0001': 18,\n",
       " '1000': 12}"
      ]
     },
     "metadata": {},
     "output_type": "display_data"
    },
    {
     "data": {
      "text/plain": [
       "{'1011': 2452,\n",
       " '1101': 2350,\n",
       " '1111': 2396,\n",
       " '0001': 68,\n",
       " '1001': 2275,\n",
       " '1110': 47,\n",
       " '0101': 52,\n",
       " '1100': 73,\n",
       " '1010': 59,\n",
       " '0011': 70,\n",
       " '1000': 79,\n",
       " '0111': 61,\n",
       " '0000': 5,\n",
       " '0100': 6,\n",
       " '0010': 4,\n",
       " '0110': 3}"
      ]
     },
     "metadata": {},
     "output_type": "display_data"
    }
   ],
   "source": [
    "\n",
    "from qiskit_aer.aerprovider import AerProvider, QasmSimulator,AerSimulator\n",
    "\n",
    "import qiskit_aer.noise as noise\n",
    "\n",
    "\n",
    "basis_gates = ['x','sx','rz','cz']\n",
    "cmap2 = [[0,1],[1,0],[1,2],[2,1],[2,3],[3,2]]\n",
    "cmap3 = [[0,1],[0,2],[1,0],[1,2],[1,3],[2,0],[2,1],[2,3],[3,1],[3,2]]\n",
    "\n",
    "\n",
    "# Error probabilities\n",
    "prob_1 = 0.0005  # 1-qubit gate\n",
    "prob_2 = 0.005   # 2-qubit gate\n",
    "\n",
    "# Depolarizing quantum errors\n",
    "error_1 = noise.depolarizing_error(prob_1, 1)\n",
    "error_2 = noise.depolarizing_error(prob_2, 2)\n",
    "error_3 = noise.depolarizing_error(10*prob_2, 2)\n",
    "\n",
    "# Add errors to noise model\n",
    "noise_model2 = noise.NoiseModel()\n",
    "noise_model2.add_all_qubit_quantum_error(error_1, ['rz', 'sx', 'x'])\n",
    "noise_model2.add_all_qubit_quantum_error(error_2, ['cz'])\n",
    "\n",
    "be2 = AerSimulator(basis_gates = basis_gates, n_qubits=4,\n",
    "                   noise_model=noise_model2, coupling_map=cmap2)\n",
    "\n",
    "\n",
    "noise_model3 = noise.NoiseModel()\n",
    "noise_model3.add_all_qubit_quantum_error(error_1, ['rz', 'sx', 'x'])\n",
    "for qubits in cmap3:\n",
    "    if qubits not in cmap2:\n",
    "        noise_model3.add_quantum_error(error_2, ['cz'], qubits)\n",
    "    else:\n",
    "        noise_model3.add_quantum_error(error_3, ['cz'], qubits)\n",
    "\n",
    "be3 = AerSimulator(basis_gates = basis_gates, n_qubits=4,\n",
    "                   noise_model=noise_model3, coupling_map=cmap3)\n",
    "\n",
    "counts2 = be2.run(transpile(c2, backend=be2), shots=10000).result().get_counts()\n",
    "counts3 = be3.run(transpile(c3, backend=be3), shots=10000).result().get_counts()\n",
    "\n",
    "display(ideal_prob)\n",
    "display(counts2)\n",
    "display(counts3)"
   ]
  }
 ],
 "metadata": {
  "kernelspec": {
   "display_name": "base",
   "language": "python",
   "name": "python3"
  },
  "language_info": {
   "codemirror_mode": {
    "name": "ipython",
    "version": 3
   },
   "file_extension": ".py",
   "mimetype": "text/x-python",
   "name": "python",
   "nbconvert_exporter": "python",
   "pygments_lexer": "ipython3",
   "version": "3.11.5"
  }
 },
 "nbformat": 4,
 "nbformat_minor": 2
}
