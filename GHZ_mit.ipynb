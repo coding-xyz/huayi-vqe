{
 "cells": [
  {
   "cell_type": "code",
   "execution_count": 23,
   "metadata": {},
   "outputs": [
    {
     "data": {
      "text/html": [
       "<pre style=\"word-wrap: normal;white-space: pre;background: #fff0;line-height: 1.1;font-family: &quot;Courier New&quot;,Courier,monospace\">        ┌───┐                ░ ┌─┐         \n",
       "   q_0: ┤ H ├──■────■────■───░─┤M├─────────\n",
       "        └───┘┌─┴─┐  │    │   ░ └╥┘┌─┐      \n",
       "   q_1: ─────┤ X ├──┼────┼───░──╫─┤M├──────\n",
       "             └───┘┌─┴─┐  │   ░  ║ └╥┘┌─┐   \n",
       "   q_2: ──────────┤ X ├──┼───░──╫──╫─┤M├───\n",
       "                  └───┘┌─┴─┐ ░  ║  ║ └╥┘┌─┐\n",
       "   q_3: ───────────────┤ X ├─░──╫──╫──╫─┤M├\n",
       "                       └───┘ ░  ║  ║  ║ └╥┘\n",
       "meas: 4/════════════════════════╩══╩══╩══╩═\n",
       "                                0  1  2  3 </pre>"
      ],
      "text/plain": [
       "        ┌───┐                ░ ┌─┐         \n",
       "   q_0: ┤ H ├──■────■────■───░─┤M├─────────\n",
       "        └───┘┌─┴─┐  │    │   ░ └╥┘┌─┐      \n",
       "   q_1: ─────┤ X ├──┼────┼───░──╫─┤M├──────\n",
       "             └───┘┌─┴─┐  │   ░  ║ └╥┘┌─┐   \n",
       "   q_2: ──────────┤ X ├──┼───░──╫──╫─┤M├───\n",
       "                  └───┘┌─┴─┐ ░  ║  ║ └╥┘┌─┐\n",
       "   q_3: ───────────────┤ X ├─░──╫──╫──╫─┤M├\n",
       "                       └───┘ ░  ║  ║  ║ └╥┘\n",
       "meas: 4/════════════════════════╩══╩══╩══╩═\n",
       "                                0  1  2  3 "
      ]
     },
     "metadata": {},
     "output_type": "display_data"
    },
    {
     "data": {
      "text/html": [
       "<pre style=\"word-wrap: normal;white-space: pre;background: #fff0;line-height: 1.1;font-family: &quot;Courier New&quot;,Courier,monospace\">global phase: 3π/2\n",
       "         ┌─────────┐┌───────┐                                                    ░ ┌─┐         \n",
       "q_0 -> 0 ┤ Ry(π/2) ├┤ Rx(π) ├─■─────────────■─────────────■──────────────────────░─┤M├─────────\n",
       "         ├─────────┤├───────┤ │ ┌─────────┐ │  ┌───────┐  │                      ░ └╥┘┌─┐      \n",
       "q_1 -> 1 ┤ Ry(π/2) ├┤ Rx(π) ├─■─┤ Ry(π/2) ├─┼──┤ Rx(π) ├──┼──────────────────────░──╫─┤M├──────\n",
       "         ├─────────┤├───────┤   └─────────┘ │ ┌┴───────┴┐ │  ┌───────┐           ░  ║ └╥┘┌─┐   \n",
       "q_2 -> 2 ┤ Ry(π/2) ├┤ Rx(π) ├───────────────■─┤ Ry(π/2) ├─┼──┤ Rx(π) ├───────────░──╫──╫─┤M├───\n",
       "         ├─────────┤├───────┤                 └─────────┘ │ ┌┴───────┴┐┌───────┐ ░  ║  ║ └╥┘┌─┐\n",
       "q_3 -> 3 ┤ Ry(π/2) ├┤ Rx(π) ├─────────────────────────────■─┤ Ry(π/2) ├┤ Rx(π) ├─░──╫──╫──╫─┤M├\n",
       "         └─────────┘└───────┘                               └─────────┘└───────┘ ░  ║  ║  ║ └╥┘\n",
       " meas: 4/═══════════════════════════════════════════════════════════════════════════╩══╩══╩══╩═\n",
       "                                                                                    0  1  2  3 </pre>"
      ],
      "text/plain": [
       "global phase: 3π/2\n",
       "         ┌─────────┐┌───────┐                                                    ░ ┌─┐         \n",
       "q_0 -> 0 ┤ Ry(π/2) ├┤ Rx(π) ├─■─────────────■─────────────■──────────────────────░─┤M├─────────\n",
       "         ├─────────┤├───────┤ │ ┌─────────┐ │  ┌───────┐  │                      ░ └╥┘┌─┐      \n",
       "q_1 -> 1 ┤ Ry(π/2) ├┤ Rx(π) ├─■─┤ Ry(π/2) ├─┼──┤ Rx(π) ├──┼──────────────────────░──╫─┤M├──────\n",
       "         ├─────────┤├───────┤   └─────────┘ │ ┌┴───────┴┐ │  ┌───────┐           ░  ║ └╥┘┌─┐   \n",
       "q_2 -> 2 ┤ Ry(π/2) ├┤ Rx(π) ├───────────────■─┤ Ry(π/2) ├─┼──┤ Rx(π) ├───────────░──╫──╫─┤M├───\n",
       "         ├─────────┤├───────┤                 └─────────┘ │ ┌┴───────┴┐┌───────┐ ░  ║  ║ └╥┘┌─┐\n",
       "q_3 -> 3 ┤ Ry(π/2) ├┤ Rx(π) ├─────────────────────────────■─┤ Ry(π/2) ├┤ Rx(π) ├─░──╫──╫──╫─┤M├\n",
       "         └─────────┘└───────┘                               └─────────┘└───────┘ ░  ║  ║  ║ └╥┘\n",
       " meas: 4/═══════════════════════════════════════════════════════════════════════════╩══╩══╩══╩═\n",
       "                                                                                    0  1  2  3 "
      ]
     },
     "metadata": {},
     "output_type": "display_data"
    },
    {
     "data": {
      "image/png": "[encoded data removed]",
      "text/plain": [
       "<Figure size 700x500 with 1 Axes>"
      ]
     },
     "execution_count": 23,
     "metadata": {},
     "output_type": "execute_result"
    }
   ],
   "source": [
    "from huayi_providers.fake_Huayi8 import FakeHuayi8, FakeHuayi8V2\n",
    "from qiskit.circuit.library import EfficientSU2\n",
    "from qiskit import transpile\n",
    "from qiskit import QuantumCircuit\n",
    "from qiskit_aer import AerSimulator\n",
    "from qiskit.visualization import plot_histogram\n",
    "\n",
    "qc = QuantumCircuit(4)\n",
    "qc.h(0)\n",
    "qc.cx(0,1)\n",
    "qc.cx(0,2)\n",
    "qc.cx(0,3)\n",
    "qc.measure_all()\n",
    "display( qc.draw() )\n",
    "\n",
    "\n",
    "circ_huayi = transpile(qc, backend=FakeHuayi8())\n",
    "display( circ_huayi.draw(fold=-1,idle_wires=False) )\n",
    "\n",
    "\n",
    "ideal_output = AerSimulator().run(qc).result().get_counts()\n",
    "huayi_sim = FakeHuayi8().run(circ_huayi, backend=FakeHuayi8()).result().get_counts()\n",
    "\n",
    "plot_histogram([ideal_output, huayi_sim])"
   ]
  },
  {
   "cell_type": "code",
   "execution_count": 26,
   "metadata": {},
   "outputs": [],
   "source": [
    "import mthree\n",
    "\n",
    "tcs = transpile([qc]*2, backend=FakeHuayi8())\n",
    "mappings = mthree.utils.final_measurement_mapping(tcs)\n",
    "\n",
    "counts = FakeHuayi8().run(tcs, backend=FakeHuayi8(),shots=10000).result().get_counts()\n",
    "\n",
    "mit = mthree.M3Mitigation(FakeHuayi8())\n",
    "mit.cals_from_system(mappings, shots=10000)\n",
    "quasis = mit.apply_correction(counts, mappings, return_mitigation_overhead=True)\n",
    "\n",
    "\n"
   ]
  },
  {
   "cell_type": "code",
   "execution_count": 30,
   "metadata": {},
   "outputs": [
    {
     "data": {
      "text/plain": [
       "[{0: 0, 1: 1, 2: 2, 3: 3}, {0: 0, 1: 1, 2: 2, 3: 3}]"
      ]
     },
     "execution_count": 30,
     "metadata": {},
     "output_type": "execute_result"
    }
   ],
   "source": [
    "mappings"
   ]
  },
  {
   "cell_type": "code",
   "execution_count": 29,
   "metadata": {},
   "outputs": [
    {
     "data": {
      "text/plain": [
       "{'system': <FakeHuayi8('fake_Huayi8')>,\n",
       " 'system_info': {'inoperable_qubits': [],\n",
       "  'name': 'fake_Huayi8',\n",
       "  'num_qubits': 8,\n",
       "  'max_shots': 6000,\n",
       "  'simulator': True},\n",
       " 'single_qubit_cals': [array([[9.999e-01, 1.000e-04],\n",
       "         [1.000e-04, 9.999e-01]]),\n",
       "  array([[9.998e-01, 0.000e+00],\n",
       "         [2.000e-04, 1.000e+00]]),\n",
       "  array([[9.998e-01, 5.000e-04],\n",
       "         [2.000e-04, 9.995e-01]]),\n",
       "  array([[9.995e-01, 0.000e+00],\n",
       "         [5.000e-04, 1.000e+00]]),\n",
       "  None,\n",
       "  None,\n",
       "  None,\n",
       "  None],\n",
       " 'num_qubits': 8,\n",
       " 'iter_threshold': 4096,\n",
       " 'cal_shots': 10000,\n",
       " 'cal_method': 'independent',\n",
       " 'cal_timestamp': '2023-12-29T02:30:42.227432+00:00',\n",
       " 'rep_delay': None,\n",
       " '_thread': None,\n",
       " '_job_error': None,\n",
       " 'cals_file': None,\n",
       " 'faulty_qubits': [],\n",
       " '_balanced_shots': None}"
      ]
     },
     "execution_count": 29,
     "metadata": {},
     "output_type": "execute_result"
    }
   ],
   "source": [
    "mit.__dict__"
   ]
  },
  {
   "cell_type": "code",
   "execution_count": 34,
   "metadata": {},
   "outputs": [
    {
     "data": {
      "text/plain": [
       "[array([1.        , 0.94794047, 0.4850835 , 0.47768268]),\n",
       " array([1.        , 0.95212447])]"
      ]
     },
     "execution_count": 34,
     "metadata": {},
     "output_type": "execute_result"
    }
   ],
   "source": [
    "quasis.expval([['IIII', 'ZZZZ', '0000', '1111'], ['IIII', 'ZZZZ']])\n",
    "\n"
   ]
  },
  {
   "cell_type": "code",
   "execution_count": null,
   "metadata": {},
   "outputs": [],
   "source": []
  }
 ],
 "metadata": {
  "kernelspec": {
   "display_name": "base",
   "language": "python",
   "name": "python3"
  },
  "language_info": {
   "codemirror_mode": {
    "name": "ipython",
    "version": 3
   },
   "file_extension": ".py",
   "mimetype": "text/x-python",
   "name": "python",
   "nbconvert_exporter": "python",
   "pygments_lexer": "ipython3",
   "version": "3.11.5"
  }
 },
 "nbformat": 4,
 "nbformat_minor": 2
}
