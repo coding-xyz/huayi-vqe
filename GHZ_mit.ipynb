{
 "cells": [
  {
   "cell_type": "code",
   "execution_count": 48,
   "metadata": {},
   "outputs": [
    {
     "data": {
      "text/html": [
       "<pre style=\"word-wrap: normal;white-space: pre;background: #fff0;line-height: 1.1;font-family: &quot;Courier New&quot;,Courier,monospace\">        ┌───┐                ░ ┌─┐         \n",
       "   q_0: ┤ H ├──■────■────■───░─┤M├─────────\n",
       "        └───┘┌─┴─┐  │    │   ░ └╥┘┌─┐      \n",
       "   q_1: ─────┤ X ├──┼────┼───░──╫─┤M├──────\n",
       "             └───┘┌─┴─┐  │   ░  ║ └╥┘┌─┐   \n",
       "   q_2: ──────────┤ X ├──┼───░──╫──╫─┤M├───\n",
       "                  └───┘┌─┴─┐ ░  ║  ║ └╥┘┌─┐\n",
       "   q_3: ───────────────┤ X ├─░──╫──╫──╫─┤M├\n",
       "                       └───┘ ░  ║  ║  ║ └╥┘\n",
       "   c: 4/════════════════════════╬══╬══╬══╬═\n",
       "                                ║  ║  ║  ║ \n",
       "meas: 4/════════════════════════╩══╩══╩══╩═\n",
       "                                0  1  2  3 </pre>"
      ],
      "text/plain": [
       "        ┌───┐                ░ ┌─┐         \n",
       "   q_0: ┤ H ├──■────■────■───░─┤M├─────────\n",
       "        └───┘┌─┴─┐  │    │   ░ └╥┘┌─┐      \n",
       "   q_1: ─────┤ X ├──┼────┼───░──╫─┤M├──────\n",
       "             └───┘┌─┴─┐  │   ░  ║ └╥┘┌─┐   \n",
       "   q_2: ──────────┤ X ├──┼───░──╫──╫─┤M├───\n",
       "                  └───┘┌─┴─┐ ░  ║  ║ └╥┘┌─┐\n",
       "   q_3: ───────────────┤ X ├─░──╫──╫──╫─┤M├\n",
       "                       └───┘ ░  ║  ║  ║ └╥┘\n",
       "   c: 4/════════════════════════╬══╬══╬══╬═\n",
       "                                ║  ║  ║  ║ \n",
       "meas: 4/════════════════════════╩══╩══╩══╩═\n",
       "                                0  1  2  3 "
      ]
     },
     "metadata": {},
     "output_type": "display_data"
    },
    {
     "data": {
      "text/html": [
       "<pre style=\"word-wrap: normal;white-space: pre;background: #fff0;line-height: 1.1;font-family: &quot;Courier New&quot;,Courier,monospace\">global phase: 3π/2\n",
       "         ┌─────────┐┌───────┐                                                    ░ ┌─┐         \n",
       "q_0 -> 0 ┤ Ry(π/2) ├┤ Rx(π) ├─■─────────────■─────────────■──────────────────────░─┤M├─────────\n",
       "         ├─────────┤├───────┤ │ ┌─────────┐ │  ┌───────┐  │                      ░ └╥┘┌─┐      \n",
       "q_1 -> 1 ┤ Ry(π/2) ├┤ Rx(π) ├─■─┤ Ry(π/2) ├─┼──┤ Rx(π) ├──┼──────────────────────░──╫─┤M├──────\n",
       "         ├─────────┤├───────┤   └─────────┘ │ ┌┴───────┴┐ │  ┌───────┐           ░  ║ └╥┘┌─┐   \n",
       "q_2 -> 2 ┤ Ry(π/2) ├┤ Rx(π) ├───────────────■─┤ Ry(π/2) ├─┼──┤ Rx(π) ├───────────░──╫──╫─┤M├───\n",
       "         ├─────────┤├───────┤                 └─────────┘ │ ┌┴───────┴┐┌───────┐ ░  ║  ║ └╥┘┌─┐\n",
       "q_3 -> 3 ┤ Ry(π/2) ├┤ Rx(π) ├─────────────────────────────■─┤ Ry(π/2) ├┤ Rx(π) ├─░──╫──╫──╫─┤M├\n",
       "         └─────────┘└───────┘                               └─────────┘└───────┘ ░  ║  ║  ║ └╥┘\n",
       " meas: 4/═══════════════════════════════════════════════════════════════════════════╩══╩══╩══╩═\n",
       "                                                                                    0  1  2  3 </pre>"
      ],
      "text/plain": [
       "global phase: 3π/2\n",
       "         ┌─────────┐┌───────┐                                                    ░ ┌─┐         \n",
       "q_0 -> 0 ┤ Ry(π/2) ├┤ Rx(π) ├─■─────────────■─────────────■──────────────────────░─┤M├─────────\n",
       "         ├─────────┤├───────┤ │ ┌─────────┐ │  ┌───────┐  │                      ░ └╥┘┌─┐      \n",
       "q_1 -> 1 ┤ Ry(π/2) ├┤ Rx(π) ├─■─┤ Ry(π/2) ├─┼──┤ Rx(π) ├──┼──────────────────────░──╫─┤M├──────\n",
       "         ├─────────┤├───────┤   └─────────┘ │ ┌┴───────┴┐ │  ┌───────┐           ░  ║ └╥┘┌─┐   \n",
       "q_2 -> 2 ┤ Ry(π/2) ├┤ Rx(π) ├───────────────■─┤ Ry(π/2) ├─┼──┤ Rx(π) ├───────────░──╫──╫─┤M├───\n",
       "         ├─────────┤├───────┤                 └─────────┘ │ ┌┴───────┴┐┌───────┐ ░  ║  ║ └╥┘┌─┐\n",
       "q_3 -> 3 ┤ Ry(π/2) ├┤ Rx(π) ├─────────────────────────────■─┤ Ry(π/2) ├┤ Rx(π) ├─░──╫──╫──╫─┤M├\n",
       "         └─────────┘└───────┘                               └─────────┘└───────┘ ░  ║  ║  ║ └╥┘\n",
       " meas: 4/═══════════════════════════════════════════════════════════════════════════╩══╩══╩══╩═\n",
       "                                                                                    0  1  2  3 "
      ]
     },
     "metadata": {},
     "output_type": "display_data"
    },
    {
     "data": {
      "image/png": "[encoded data removed]",
      "text/plain": [
       "<Figure size 700x500 with 1 Axes>"
      ]
     },
     "execution_count": 48,
     "metadata": {},
     "output_type": "execute_result"
    }
   ],
   "source": [
    "from huayi_providers.fake_Huayi8 import FakeHuayi8, FakeHuayi8V2\n",
    "from qiskit.circuit.library import EfficientSU2\n",
    "from qiskit import transpile\n",
    "from qiskit import QuantumCircuit\n",
    "from qiskit_aer import AerSimulator\n",
    "from qiskit.visualization import plot_histogram\n",
    "\n",
    "qc = QuantumCircuit(4,4)\n",
    "qc.h(0)\n",
    "qc.cx(0,1)\n",
    "qc.cx(0,2)\n",
    "qc.cx(0,3)\n",
    "qc.measure_all()\n",
    "display( qc.draw() )\n",
    "\n",
    "\n",
    "circ_huayi = transpile(qc, backend=FakeHuayi8())\n",
    "display( circ_huayi.draw(fold=-1,idle_wires=False) )\n",
    "\n",
    "\n",
    "ideal_output = AerSimulator().run(qc).result().get_counts()\n",
    "huayi_sim = FakeHuayi8().run(circ_huayi, backend=FakeHuayi8()).result().get_counts()\n",
    "\n",
    "plot_histogram([ideal_output, huayi_sim])"
   ]
  },
  {
   "cell_type": "code",
   "execution_count": 49,
   "metadata": {},
   "outputs": [
    {
     "ename": "ModuleNotFoundError",
     "evalue": "No module named 'mthree'",
     "output_type": "error",
     "traceback": [
      "\u001b[1;31m---------------------------------------------------------------------------\u001b[0m",
      "\u001b[1;31mModuleNotFoundError\u001b[0m                       Traceback (most recent call last)",
      "Cell \u001b[1;32mIn[49], line 1\u001b[0m\n\u001b[1;32m----> 1\u001b[0m \u001b[38;5;28;01mimport\u001b[39;00m \u001b[38;5;21;01mmthree\u001b[39;00m\n",
      "\u001b[1;31mModuleNotFoundError\u001b[0m: No module named 'mthree'"
     ]
    }
   ],
   "source": [
    "import mthree"
   ]
  },
  {
   "cell_type": "code",
   "execution_count": 51,
   "metadata": {},
   "outputs": [
    {
     "name": "stdout",
     "output_type": "stream",
     "text": [
      "Retrieving notices: ...working... done\n",
      "Collecting package metadata (current_repodata.json): ...working... done\n",
      "Solving environment: ...working... unsuccessful initial attempt using frozen solve. Retrying with flexible solve.\n",
      "Collecting package metadata (repodata.json): ...working... done\n",
      "Solving environment: ...working... unsuccessful initial attempt using frozen solve. Retrying with flexible solve.\n",
      "\n",
      "Note: you may need to restart the kernel to use updated packages.\n"
     ]
    },
    {
     "name": "stderr",
     "output_type": "stream",
     "text": [
      "\n",
      "PackagesNotFoundError: The following packages are not available from current channels:\n",
      "\n",
      "  - mthree\n",
      "\n",
      "Current channels:\n",
      "\n",
      "  - https://repo.anaconda.com/pkgs/main/win-64\n",
      "  - https://repo.anaconda.com/pkgs/main/noarch\n",
      "  - https://repo.anaconda.com/pkgs/r/win-64\n",
      "  - https://repo.anaconda.com/pkgs/r/noarch\n",
      "  - https://repo.anaconda.com/pkgs/msys2/win-64\n",
      "  - https://repo.anaconda.com/pkgs/msys2/noarch\n",
      "\n",
      "To search for alternate channels that may provide the conda package you're\n",
      "looking for, navigate to\n",
      "\n",
      "    https://anaconda.org\n",
      "\n",
      "and use the search bar at the top of the page.\n",
      "\n",
      "\n"
     ]
    }
   ],
   "source": [
    "conda install mthree"
   ]
  },
  {
   "cell_type": "code",
   "execution_count": null,
   "metadata": {},
   "outputs": [],
   "source": []
  }
 ],
 "metadata": {
  "kernelspec": {
   "display_name": "base",
   "language": "python",
   "name": "python3"
  },
  "language_info": {
   "codemirror_mode": {
    "name": "ipython",
    "version": 3
   },
   "file_extension": ".py",
   "mimetype": "text/x-python",
   "name": "python",
   "nbconvert_exporter": "python",
   "pygments_lexer": "ipython3",
   "version": "3.11.5"
  }
 },
 "nbformat": 4,
 "nbformat_minor": 2
}
